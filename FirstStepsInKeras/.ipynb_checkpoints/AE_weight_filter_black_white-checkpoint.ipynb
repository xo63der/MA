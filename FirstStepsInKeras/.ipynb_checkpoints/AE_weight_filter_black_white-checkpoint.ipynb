{
 "cells": [
  {
   "cell_type": "code",
   "execution_count": 8,
   "metadata": {},
   "outputs": [
    {
     "name": "stdout",
     "output_type": "stream",
     "text": [
      "(60000, 784)\n",
      "(10000, 784)\n"
     ]
    },
    {
     "data": {
      "image/png": "[encoded data removed]",
      "text/plain": [
       "<Figure size 1440x360 with 9 Axes>"
      ]
     },
     "metadata": {},
     "output_type": "display_data"
    },
    {
     "name": "stdout",
     "output_type": "stream",
     "text": [
      "[0.25       0.25       0.25       0.25       0.25       0.25\n",
      " 0.25       0.25       0.25       0.25       0.25       0.25\n",
      " 0.25       0.25       0.25       0.25       0.25       0.25\n",
      " 0.25       0.25       0.25       0.25       0.25       0.25\n",
      " 0.25       0.25       0.25       0.25       0.25       0.25\n",
      " 0.25       0.25       0.25       0.25       0.25       0.25\n",
      " 0.25       0.25       0.25       0.25       0.25       0.25\n",
      " 0.25       0.25       0.25       0.25       0.25       0.25\n",
      " 0.25       0.25       0.25       0.25       0.25       0.25\n",
      " 0.25       0.25       0.25       0.25       0.25       0.25\n",
      " 0.25       0.25       0.25       0.25       0.25       0.25\n",
      " 0.25       0.25       0.25       0.25       0.25       0.25\n",
      " 0.25       0.25       0.25       0.25       0.25       0.25\n",
      " 0.25       0.25       0.25       0.25       0.25       0.25\n",
      " 0.25       0.25       0.25       0.25       0.25       0.25\n",
      " 0.25       0.25       0.25       0.25       0.25       0.25\n",
      " 0.25       0.25       0.25       0.25       0.25       0.25\n",
      " 0.25       0.25       0.25       0.25       0.25       0.25\n",
      " 0.25       0.25       0.25       0.25       0.25       0.25\n",
      " 0.25       0.25       0.25       0.25       0.25       0.25\n",
      " 0.25       0.25       0.25       0.25       0.25       0.25\n",
      " 0.25       0.25       0.25       0.25       0.25       0.25\n",
      " 0.25       0.25       0.25       0.25       0.25       0.25\n",
      " 0.25       0.25       0.25       0.25       0.25       0.25\n",
      " 0.25       0.25       0.25       0.25       0.25       0.25\n",
      " 0.25       0.25       0.25588235 0.28529412 0.28529412 0.28529412\n",
      " 0.4970588  0.51666665 0.59313726 0.3009804  0.57549024 0.75\n",
      " 0.7343137  0.49901962 0.25       0.25       0.25       0.25\n",
      " 0.25       0.25       0.25       0.25       0.25       0.25\n",
      " 0.25       0.25       0.30882353 0.32058823 0.4343137  0.5519608\n",
      " 0.5833334  0.74607843 0.74607843 0.74607843 0.74607843 0.74607843\n",
      " 0.6911765  0.5872549  0.74607843 0.72450984 0.63235295 0.3754902\n",
      " 0.25       0.25       0.25       0.25       0.25       0.25\n",
      " 0.25       0.25       0.25       0.25       0.25       0.34607843\n",
      " 0.7166667  0.74607843 0.74607843 0.74607843 0.74607843 0.74607843\n",
      " 0.74607843 0.74607843 0.74607843 0.74215686 0.43235296 0.4107843\n",
      " 0.4107843  0.35980392 0.32647058 0.25       0.25       0.25\n",
      " 0.25       0.25       0.25       0.25       0.25       0.25\n",
      " 0.25       0.25       0.25       0.28529412 0.67941177 0.74607843\n",
      " 0.74607843 0.74607843 0.74607843 0.74607843 0.63823533 0.6068628\n",
      " 0.7343137  0.722549   0.25       0.25       0.25       0.25\n",
      " 0.25       0.25       0.25       0.25       0.25       0.25\n",
      " 0.25       0.25       0.25       0.25       0.25       0.25\n",
      " 0.25       0.25       0.40686274 0.55588233 0.45980394 0.74607843\n",
      " 0.74607843 0.6519608  0.27156863 0.25       0.33431372 0.5519608\n",
      " 0.25       0.25       0.25       0.25       0.25       0.25\n",
      " 0.25       0.25       0.25       0.25       0.25       0.25\n",
      " 0.25       0.25       0.25       0.25       0.25       0.25\n",
      " 0.25       0.27745098 0.25196078 0.5519608  0.74607843 0.42647058\n",
      " 0.25       0.25       0.25       0.25       0.25       0.25\n",
      " 0.25       0.25       0.25       0.25       0.25       0.25\n",
      " 0.25       0.25       0.25       0.25       0.25       0.25\n",
      " 0.25       0.25       0.25       0.25       0.25       0.25\n",
      " 0.25       0.52254903 0.74607843 0.62254906 0.25392157 0.25\n",
      " 0.25       0.25       0.25       0.25       0.25       0.25\n",
      " 0.25       0.25       0.25       0.25       0.25       0.25\n",
      " 0.25       0.25       0.25       0.25       0.25       0.25\n",
      " 0.25       0.25       0.25       0.25       0.25       0.27156863\n",
      " 0.62254906 0.74607843 0.3872549  0.25       0.25       0.25\n",
      " 0.25       0.25       0.25       0.25       0.25       0.25\n",
      " 0.25       0.25       0.25       0.25       0.25       0.25\n",
      " 0.25       0.25       0.25       0.25       0.25       0.25\n",
      " 0.25       0.25       0.25       0.25       0.31862745 0.722549\n",
      " 0.6911765  0.5637255  0.4617647  0.25196078 0.25       0.25\n",
      " 0.25       0.25       0.25       0.25       0.25       0.25\n",
      " 0.25       0.25       0.25       0.25       0.25       0.25\n",
      " 0.25       0.25       0.25       0.25       0.25       0.25\n",
      " 0.25       0.25       0.25       0.40882355 0.7205882  0.74607843\n",
      " 0.74607843 0.48333335 0.2990196  0.25       0.25       0.25\n",
      " 0.25       0.25       0.25       0.25       0.25       0.25\n",
      " 0.25       0.25       0.25       0.25       0.25       0.25\n",
      " 0.25       0.25       0.25       0.25       0.25       0.25\n",
      " 0.25       0.25       0.3382353  0.6147059  0.74607843 0.74607843\n",
      " 0.5441177  0.30294117 0.25       0.25       0.25       0.25\n",
      " 0.25       0.25       0.25       0.25       0.25       0.25\n",
      " 0.25       0.25       0.25       0.25       0.25       0.25\n",
      " 0.25       0.25       0.25       0.25       0.25       0.25\n",
      " 0.25       0.28137255 0.43235296 0.7441176  0.74607843 0.6166667\n",
      " 0.25       0.25       0.25       0.25       0.25       0.25\n",
      " 0.25       0.25       0.25       0.25       0.25       0.25\n",
      " 0.25       0.25       0.25       0.25       0.25       0.25\n",
      " 0.25       0.25       0.25       0.25       0.25       0.25\n",
      " 0.25       0.7382353  0.74607843 0.7382353  0.3754902  0.25\n",
      " 0.25       0.25       0.25       0.25       0.25       0.25\n",
      " 0.25       0.25       0.25       0.25       0.25       0.25\n",
      " 0.25       0.25       0.25       0.25       0.25       0.25\n",
      " 0.25       0.25       0.34019607 0.504902   0.60882354 0.74607843\n",
      " 0.74607843 0.65588236 0.25392157 0.25       0.25       0.25\n",
      " 0.25       0.25       0.25       0.25       0.25       0.25\n",
      " 0.25       0.25       0.25       0.25       0.25       0.25\n",
      " 0.25       0.25       0.25       0.25       0.32647058 0.54019606\n",
      " 0.6990196  0.74607843 0.74607843 0.74607843 0.7401961  0.6068628\n",
      " 0.25       0.25       0.25       0.25       0.25       0.25\n",
      " 0.25       0.25       0.25       0.25       0.25       0.25\n",
      " 0.25       0.25       0.25       0.25       0.25       0.25\n",
      " 0.29705882 0.4735294  0.68333334 0.74607843 0.74607843 0.74607843\n",
      " 0.74607843 0.64411765 0.40294117 0.25       0.25       0.25\n",
      " 0.25       0.25       0.25       0.25       0.25       0.25\n",
      " 0.25       0.25       0.25       0.25       0.25       0.25\n",
      " 0.25       0.25       0.29509804 0.37941176 0.66764706 0.74607843\n",
      " 0.74607843 0.74607843 0.74607843 0.63823533 0.40882355 0.25392157\n",
      " 0.25       0.25       0.25       0.25       0.25       0.25\n",
      " 0.25       0.25       0.25       0.25       0.25       0.25\n",
      " 0.25       0.25       0.25       0.25       0.28529412 0.5852941\n",
      " 0.67941177 0.74607843 0.74607843 0.74607843 0.74607843 0.63235295\n",
      " 0.40686274 0.26764706 0.25       0.25       0.25       0.25\n",
      " 0.25       0.25       0.25       0.25       0.25       0.25\n",
      " 0.25       0.25       0.25       0.25       0.25       0.25\n",
      " 0.35784313 0.5872549  0.6931373  0.74607843 0.74607843 0.74607843\n",
      " 0.74607843 0.72843134 0.5107843  0.27156863 0.25       0.25\n",
      " 0.25       0.25       0.25       0.25       0.25       0.25\n",
      " 0.25       0.25       0.25       0.25       0.25       0.25\n",
      " 0.25       0.25       0.25       0.25       0.51666665 0.74607843\n",
      " 0.74607843 0.74607843 0.66568625 0.5147059  0.5088235  0.28137255\n",
      " 0.25       0.25       0.25       0.25       0.25       0.25\n",
      " 0.25       0.25       0.25       0.25       0.25       0.25\n",
      " 0.25       0.25       0.25       0.25       0.25       0.25\n",
      " 0.25       0.25       0.25       0.25       0.25       0.25\n",
      " 0.25       0.25       0.25       0.25       0.25       0.25\n",
      " 0.25       0.25       0.25       0.25       0.25       0.25\n",
      " 0.25       0.25       0.25       0.25       0.25       0.25\n",
      " 0.25       0.25       0.25       0.25       0.25       0.25\n",
      " 0.25       0.25       0.25       0.25       0.25       0.25\n",
      " 0.25       0.25       0.25       0.25       0.25       0.25\n",
      " 0.25       0.25       0.25       0.25       0.25       0.25\n",
      " 0.25       0.25       0.25       0.25       0.25       0.25\n",
      " 0.25       0.25       0.25       0.25       0.25       0.25\n",
      " 0.25       0.25       0.25       0.25       0.25       0.25\n",
      " 0.25       0.25       0.25       0.25       0.25       0.25\n",
      " 0.25       0.25       0.25       0.25       0.25       0.25\n",
      " 0.25       0.25       0.25       0.25      ]\n",
      "Epoch 1/20\n"
     ]
    },
    {
     "name": "stdout",
     "output_type": "stream",
     "text": [
      "60000/60000 [==============================] - 4s 68us/step - loss: 0.0089\n",
      "Epoch 2/20\n",
      "60000/60000 [==============================] - 4s 69us/step - loss: 0.0058\n",
      "Epoch 3/20\n",
      "60000/60000 [==============================] - 4s 65us/step - loss: 0.0057\n",
      "Epoch 4/20\n",
      "60000/60000 [==============================] - 4s 65us/step - loss: 0.0057\n",
      "Epoch 5/20\n",
      "60000/60000 [==============================] - 4s 67us/step - loss: 0.0057\n",
      "Epoch 6/20\n",
      "60000/60000 [==============================] - 4s 67us/step - loss: 0.0057\n",
      "Epoch 7/20\n",
      "60000/60000 [==============================] - 4s 68us/step - loss: 0.0057\n",
      "Epoch 8/20\n",
      "60000/60000 [==============================] - 4s 65us/step - loss: 0.0056\n",
      "Epoch 9/20\n",
      "60000/60000 [==============================] - 4s 65us/step - loss: 0.0056\n",
      "Epoch 10/20\n",
      "60000/60000 [==============================] - 4s 65us/step - loss: 0.0056\n",
      "Epoch 11/20\n",
      "60000/60000 [==============================] - 4s 66us/step - loss: 0.0056\n",
      "Epoch 12/20\n",
      "60000/60000 [==============================] - 4s 65us/step - loss: 0.0056\n",
      "Epoch 13/20\n",
      "60000/60000 [==============================] - 4s 65us/step - loss: 0.0056\n",
      "Epoch 14/20\n",
      "60000/60000 [==============================] - 4s 66us/step - loss: 0.0056\n",
      "Epoch 15/20\n",
      "60000/60000 [==============================] - 4s 65us/step - loss: 0.0056\n",
      "Epoch 16/20\n",
      "60000/60000 [==============================] - 4s 66us/step - loss: 0.0056\n",
      "Epoch 17/20\n",
      "60000/60000 [==============================] - 4s 71us/step - loss: 0.0056\n",
      "Epoch 18/20\n",
      "60000/60000 [==============================] - 4s 67us/step - loss: 0.0056\n",
      "Epoch 19/20\n",
      "60000/60000 [==============================] - 4s 65us/step - loss: 0.0056\n",
      "Epoch 20/20\n",
      "60000/60000 [==============================] - 4s 65us/step - loss: 0.0056\n",
      "784\n",
      "49\n"
     ]
    },
    {
     "data": {
      "image/png": "[encoded data removed]",
      "text/plain": [
       "<Figure size 720x324 with 10 Axes>"
      ]
     },
     "metadata": {},
     "output_type": "display_data"
    },
    {
     "data": {
      "image/png": "[encoded data removed]",
      "text/plain": [
       "<Figure size 1440x360 with 9 Axes>"
      ]
     },
     "metadata": {},
     "output_type": "display_data"
    }
   ],
   "source": [
    "# %matplotlib inline\n",
    "# %config InlineBackend.figure_format = 'retina'\n",
    "\n",
    "from __future__ import print_function\n",
    "from keras.models import Model\n",
    "from keras.layers import Dense, Input\n",
    "from keras.datasets import mnist\n",
    "from keras.regularizers import l1\n",
    "from keras.optimizers import Adam\n",
    "from keras import backend as K\n",
    "\n",
    "import matplotlib.pyplot as plt\n",
    "import pandas as pd\n",
    "import numpy as np\n",
    "import seaborn as sns\n",
    "import warnings\n",
    "\n",
    "warnings.filterwarnings('ignore')\n",
    "\n",
    "def plot_autoencoder_outputs(autoencoder, x_test, n, dims):\n",
    "    decoded_imgs = autoencoder.predict(x_test)\n",
    "\n",
    "    # number of example digits to show\n",
    "    n = 5\n",
    "    plt.figure(figsize=(10, 4.5))\n",
    "    for i in range(n):\n",
    "        # plot original image\n",
    "        ax = plt.subplot(2, n, i + 1)\n",
    "        plt.imshow(x_test[i].reshape(*dims))\n",
    "        plt.gray()\n",
    "        ax.get_xaxis().set_visible(False)\n",
    "        ax.get_yaxis().set_visible(False)\n",
    "        if i == n/2:\n",
    "            ax.set_title('Original Images')\n",
    "\n",
    "        # plot reconstruction \n",
    "        ax = plt.subplot(2, n, i + 1 + n)\n",
    "        plt.imshow(decoded_imgs[i].reshape(*dims))\n",
    "        plt.gray()\n",
    "        ax.get_xaxis().set_visible(False)\n",
    "        ax.get_yaxis().set_visible(False)\n",
    "        if i == n/2:\n",
    "            ax.set_title('Reconstructed Images')\n",
    "    plt.show()\n",
    "\n",
    "    (x_train, y_train), (x_test, y_test) = mnist.load_data()\n",
    "\n",
    "def own_kullback_leibler_divergence(y_true, y_pred):\n",
    "    y_true = K.clip(y_true, K.epsilon(), 1)\n",
    "    y_pred = K.clip(y_pred, K.epsilon(), 1)\n",
    "    return K.sum(y_true * K.log(y_true / y_pred), axis=-1)\n",
    "\n",
    "def own_mean_squared_error(y_true, y_pred):\n",
    "    return K.mean(K.square(y_pred - y_true), axis=-1)\n",
    "\n",
    "def own_loss(y_true, y_pred):\n",
    "    return own_kullback_leibler_divergence(y_true, y_pred)*0.5+own_mean_squared_error(y_true, y_pred)\n",
    "\n",
    "\n",
    "(x_train, y_train), (x_test, y_test) = mnist.load_data()\n",
    "\n",
    "x_train = 0.25 + x_train.astype('float32') / 255.0 / 2.0\n",
    "x_test = 0.25 + x_test.astype('float32') / 255.0 / 2.0\n",
    "x_train = x_train.reshape((len(x_train), np.prod(x_train.shape[1:])))\n",
    "x_test = x_test.reshape((len(x_test), np.prod(x_test.shape[1:])))\n",
    "\n",
    "print(x_train.shape)\n",
    "print(x_test.shape)\n",
    "\n",
    "input_size = 784\n",
    "code_size = 49\n",
    "\n",
    "input_img = Input(shape=(input_size,))\n",
    "code = Dense(code_size, use_bias = False, activation='relu')(input_img)\n",
    "output_img = Dense(input_size, use_bias = False, activation='sigmoid')(code)\n",
    "\n",
    "n = 9\n",
    "plt.figure(figsize=(20, 5))\n",
    "for i in range(n):\n",
    "    ax = plt.subplot(1, n, i + 1)\n",
    "    plt.imshow(x_train[i].reshape(28, 28))\n",
    "    ax.get_xaxis().set_visible(False)\n",
    "    ax.get_yaxis().set_visible(False)\n",
    "plt.show()\n",
    "\n",
    "print(x_train[0])\n",
    "\n",
    "autoencoder = Model(input_img, output_img)\n",
    "autoencoder.compile(optimizer='adam', loss='mean_squared_error')\n",
    "\n",
    "autoencoder.fit(x_train, x_train, epochs=5)\n",
    "\n",
    "for i in range(len(autoencoder.get_weights())):\n",
    "    print(len(autoencoder.get_weights()[i]))\n",
    "\n",
    "plot_autoencoder_outputs(autoencoder, x_test, 5, (28, 28))\n",
    "\n",
    "weights = autoencoder.get_weights()[0].T\n",
    "\n",
    "n = 9\n",
    "plt.figure(figsize=(20, 5))\n",
    "for i in range(n):\n",
    "    ax = plt.subplot(1, n, i + 1)\n",
    "    plt.imshow(weights[i].reshape(28, 28))\n",
    "    ax.get_xaxis().set_visible(False)\n",
    "    ax.get_yaxis().set_visible(False)\n",
    "plt.show()\n"
   ]
  },
  {
   "cell_type": "code",
   "execution_count": 9,
   "metadata": {},
   "outputs": [
    {
     "name": "stdout",
     "output_type": "stream",
     "text": [
      "784\n",
      "pups\n",
      "pups\n"
     ]
    },
    {
     "data": {
      "image/png": "[encoded data removed]",
      "text/plain": [
       "<Figure size 1440x360 with 9 Axes>"
      ]
     },
     "metadata": {},
     "output_type": "display_data"
    }
   ],
   "source": [
    "    input_img_2 = Input(shape=(input_size,))\n",
    "    code_2 = Dense(code_size, activation='relu', use_bias = False)(input_img_2)\n",
    "    output_img_2 = Dense(input_size, activation='sigmoid', use_bias = False)(code)\n",
    "\n",
    "    #hidden_1_2.set_weights(weights)\n",
    "\n",
    "    autoencoder_2 = Model(input_img_2, code_2)\n",
    "    coding = autoencoder_2.predict(x_test)\n",
    "    \n",
    "    for i in range(len(autoencoder_2.get_weights())):\n",
    "        print(len(autoencoder_2.get_weights()[i]))\n",
    "    \n",
    "    for i in range(2):\n",
    "        autoencoder_2.layers[i].set_weights(autoencoder.layers[i].get_weights())\n",
    "        print('pups')\n",
    "\n",
    "    n = 9\n",
    "    plt.figure(figsize=(20, 5))\n",
    "    for i in range(n):\n",
    "        ax = plt.subplot(1, n, i + 1)\n",
    "        plt.imshow(coding[i].reshape(7, 7))\n",
    "        ax.get_xaxis().set_visible(False)\n",
    "        ax.get_yaxis().set_visible(False)\n",
    "    plt.show()\n"
   ]
  },
  {
   "cell_type": "code",
   "execution_count": 14,
   "metadata": {},
   "outputs": [
    {
     "name": "stdout",
     "output_type": "stream",
     "text": [
      "_________________________________________________________________\n",
      "Layer (type)                 Output Shape              Param #   \n",
      "=================================================================\n",
      "input_8 (InputLayer)         (None, 784)               0         \n",
      "_________________________________________________________________\n",
      "dense_15 (Dense)             (None, 49)                38416     \n",
      "_________________________________________________________________\n",
      "dense_16 (Dense)             (None, 784)               38416     \n",
      "=================================================================\n",
      "Total params: 76,832\n",
      "Trainable params: 76,832\n",
      "Non-trainable params: 0\n",
      "_________________________________________________________________\n"
     ]
    }
   ],
   "source": [
    "autoencoder.summary()"
   ]
  },
  {
   "cell_type": "code",
   "execution_count": 15,
   "metadata": {},
   "outputs": [
    {
     "name": "stdout",
     "output_type": "stream",
     "text": [
      "784\n"
     ]
    }
   ],
   "source": [
    "print(len(autoencoder.get_weights()[0]))"
   ]
  },
  {
   "cell_type": "code",
   "execution_count": 16,
   "metadata": {},
   "outputs": [
    {
     "name": "stdout",
     "output_type": "stream",
     "text": [
      "49\n"
     ]
    }
   ],
   "source": [
    "print(len(autoencoder.get_weights()[0][0]))"
   ]
  },
  {
   "cell_type": "code",
   "execution_count": 13,
   "metadata": {},
   "outputs": [
    {
     "data": {
      "image/png": "[encoded data removed]",
      "text/plain": [
       "<Figure size 1440x360 with 9 Axes>"
      ]
     },
     "metadata": {},
     "output_type": "display_data"
    }
   ],
   "source": [
    "a = np.zeros((784))\n",
    "w = autoencoder.get_weights()[0]\n",
    "\n",
    "for i in range(784):\n",
    "    for j in range(49):\n",
    "        a[i]+=w[i][j]**2\n",
    "        \n",
    "a=np.sqrt(a)\n",
    "\n",
    "ww = np.zeros((len(x_test),784))\n",
    "\n",
    "for i in range(len(x_test)):\n",
    "    for j in range(784):\n",
    "        ww[i][j]=x_test[i][j]*a[j]\n",
    "        \n",
    "n = 9\n",
    "plt.figure(figsize=(20, 5))\n",
    "for i in range(n):\n",
    "    ax = plt.subplot(1, n, i + 1)\n",
    "    plt.imshow(ww[i].reshape(28, 28))\n",
    "    ax.get_xaxis().set_visible(False)\n",
    "    ax.get_yaxis().set_visible(False)\n",
    "plt.show()\n"
   ]
  },
  {
   "cell_type": "code",
   "execution_count": 17,
   "metadata": {},
   "outputs": [
    {
     "name": "stdout",
     "output_type": "stream",
     "text": [
      "601 0.5426273965850037\n",
      "212 0.5315171258817037\n",
      "209 0.5240199983642922\n",
      "600 0.5231197449086984\n",
      "213 0.5223240360559558\n",
      "210 0.5154087992099845\n",
      "242 0.5150860948364863\n",
      "603 0.5128805783256652\n",
      "574 0.5108361277354442\n",
      "547 0.5100307147200996\n",
      "[601, 212, 209, 600, 213, 210, 242, 603, 574, 547]\n"
     ]
    },
    {
     "data": {
      "image/png": "[encoded data removed]",
      "text/plain": [
       "<Figure size 1440x360 with 9 Axes>"
      ]
     },
     "metadata": {},
     "output_type": "display_data"
    }
   ],
   "source": [
    "b = np.argsort(a)\n",
    "c = []\n",
    "for i in range(10):\n",
    "    c.append(b[-i-1])\n",
    "    print(b[-i-1], a[b[-i-1]])\n",
    "\n",
    "print(c)\n",
    "\n",
    "x_temp = x_test\n",
    "\n",
    "for i in range(len(x_test)):\n",
    "    for j in c:\n",
    "        x_temp[i][j]=0.5\n",
    "        \n",
    "n = 9\n",
    "plt.figure(figsize=(20, 5))\n",
    "for i in range(n):\n",
    "    ax = plt.subplot(1, n, i + 1)\n",
    "    plt.imshow(x_temp[i].reshape(28, 28))\n",
    "    ax.get_xaxis().set_visible(False)\n",
    "    ax.get_yaxis().set_visible(False)\n",
    "plt.show()\n"
   ]
  },
  {
   "cell_type": "code",
   "execution_count": 18,
   "metadata": {},
   "outputs": [
    {
     "data": {
      "image/png": "[encoded data removed]",
      "text/plain": [
       "<Figure size 1440x360 with 1 Axes>"
      ]
     },
     "metadata": {},
     "output_type": "display_data"
    }
   ],
   "source": [
    "n = 1\n",
    "plt.figure(figsize=(20, 5))\n",
    "for i in range(n):\n",
    "    ax = plt.subplot(1, n, i + 1)\n",
    "    plt.imshow(a.reshape(28, 28))\n",
    "    ax.get_xaxis().set_visible(False)\n",
    "    ax.get_yaxis().set_visible(False)\n",
    "plt.show()"
   ]
  },
  {
   "cell_type": "code",
   "execution_count": null,
   "metadata": {},
   "outputs": [],
   "source": []
  },
  {
   "cell_type": "code",
   "execution_count": null,
   "metadata": {},
   "outputs": [],
   "source": []
  }
 ],
 "metadata": {
  "kernelspec": {
   "display_name": "Python 3",
   "language": "python",
   "name": "python3"
  },
  "language_info": {
   "codemirror_mode": {
    "name": "ipython",
    "version": 3
   },
   "file_extension": ".py",
   "mimetype": "text/x-python",
   "name": "python",
   "nbconvert_exporter": "python",
   "pygments_lexer": "ipython3",
   "version": "3.6.5"
  }
 },
 "nbformat": 4,
 "nbformat_minor": 2
}
