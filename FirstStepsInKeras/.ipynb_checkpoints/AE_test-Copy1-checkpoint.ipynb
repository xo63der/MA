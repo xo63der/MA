{
 "cells": [
  {
   "cell_type": "code",
   "execution_count": 1,
   "metadata": {},
   "outputs": [
    {
     "name": "stderr",
     "output_type": "stream",
     "text": [
      "/home/hoffmann/anaconda3/lib/python3.6/site-packages/h5py/__init__.py:36: FutureWarning: Conversion of the second argument of issubdtype from `float` to `np.floating` is deprecated. In future, it will be treated as `np.float64 == np.dtype(float).type`.\n",
      "  from ._conv import register_converters as _register_converters\n",
      "Using TensorFlow backend.\n"
     ]
    },
    {
     "name": "stdout",
     "output_type": "stream",
     "text": [
      "(5000, 784)\n",
      "(500, 784)\n",
      "Epoch 1/20\n",
      "5000/5000 [==============================] - 0s 98us/step - loss: -0.3935\n",
      "Epoch 2/20\n",
      "5000/5000 [==============================] - 0s 86us/step - loss: -0.8194\n",
      "Epoch 3/20\n",
      "5000/5000 [==============================] - 0s 85us/step - loss: -0.8495\n",
      "Epoch 4/20\n",
      "5000/5000 [==============================] - 0s 92us/step - loss: -0.8650\n",
      "Epoch 5/20\n",
      "5000/5000 [==============================] - 0s 78us/step - loss: -0.8789\n",
      "Epoch 6/20\n",
      "5000/5000 [==============================] - 0s 87us/step - loss: -0.8892\n",
      "Epoch 7/20\n",
      "5000/5000 [==============================] - 0s 86us/step - loss: -0.8975\n",
      "Epoch 8/20\n",
      "5000/5000 [==============================] - 0s 80us/step - loss: -0.9050\n",
      "Epoch 9/20\n",
      "5000/5000 [==============================] - 0s 78us/step - loss: -0.9118\n",
      "Epoch 10/20\n",
      "5000/5000 [==============================] - 0s 79us/step - loss: -0.9163\n",
      "Epoch 11/20\n",
      "5000/5000 [==============================] - 0s 78us/step - loss: -0.9196\n",
      "Epoch 12/20\n",
      "5000/5000 [==============================] - 0s 79us/step - loss: -0.9222\n",
      "Epoch 13/20\n",
      "5000/5000 [==============================] - 0s 79us/step - loss: -0.9250\n",
      "Epoch 14/20\n",
      "5000/5000 [==============================] - 0s 78us/step - loss: -0.9282\n",
      "Epoch 15/20\n",
      "5000/5000 [==============================] - 0s 79us/step - loss: -0.9318\n",
      "Epoch 16/20\n",
      "5000/5000 [==============================] - 0s 78us/step - loss: -0.9345\n",
      "Epoch 17/20\n",
      "5000/5000 [==============================] - 0s 79us/step - loss: -0.9370\n",
      "Epoch 18/20\n",
      "5000/5000 [==============================] - 0s 88us/step - loss: -0.9395\n",
      "Epoch 19/20\n",
      "5000/5000 [==============================] - 0s 78us/step - loss: -0.9415\n",
      "Epoch 20/20\n",
      "5000/5000 [==============================] - 0s 78us/step - loss: -0.9437\n",
      "784\n",
      "49\n"
     ]
    },
    {
     "data": {
      "text/plain": [
       "<Figure size 1000x450 with 10 Axes>"
      ]
     },
     "metadata": {},
     "output_type": "display_data"
    },
    {
     "data": {
      "text/plain": [
       "<Figure size 2000x500 with 9 Axes>"
      ]
     },
     "metadata": {},
     "output_type": "display_data"
    }
   ],
   "source": [
    "# %matplotlib inline\n",
    "# %config InlineBackend.figure_format = 'retina'\n",
    "\n",
    "from __future__ import print_function\n",
    "from keras.models import Model\n",
    "from keras.layers import Dense, Input\n",
    "from keras.datasets import mnist\n",
    "from keras.regularizers import l1\n",
    "from keras.optimizers import Adam\n",
    "from keras import backend as K\n",
    "\n",
    "import matplotlib.pyplot as plt\n",
    "import pandas as pd\n",
    "import numpy as np\n",
    "import seaborn as sns\n",
    "import warnings\n",
    "\n",
    "warnings.filterwarnings('ignore')\n",
    "\n",
    "def plot_autoencoder_outputs(autoencoder, x_test, n, dims):\n",
    "    decoded_imgs = autoencoder.predict(x_test)\n",
    "\n",
    "    # number of example digits to show\n",
    "    n = 5\n",
    "    plt.figure(figsize=(10, 4.5))\n",
    "    for i in range(n):\n",
    "        # plot original image\n",
    "        ax = plt.subplot(2, n, i + 1)\n",
    "        plt.imshow(x_test[i].reshape(*dims))\n",
    "        plt.gray()\n",
    "        ax.get_xaxis().set_visible(False)\n",
    "        ax.get_yaxis().set_visible(False)\n",
    "        if i == n/2:\n",
    "            ax.set_title('Original Images')\n",
    "\n",
    "        # plot reconstruction \n",
    "        ax = plt.subplot(2, n, i + 1 + n)\n",
    "        plt.imshow(decoded_imgs[i].reshape(*dims))\n",
    "        plt.gray()\n",
    "        ax.get_xaxis().set_visible(False)\n",
    "        ax.get_yaxis().set_visible(False)\n",
    "        if i == n/2:\n",
    "            ax.set_title('Reconstructed Images')\n",
    "    plt.show()\n",
    "\n",
    "    (x_train, y_train), (x_test, y_test) = mnist.load_data()\n",
    "\n",
    "def own_kullback_leibler_divergence(y_true, y_pred):\n",
    "    y_true = K.clip(y_true, K.epsilon(), 1)\n",
    "    y_pred = K.clip(y_pred, K.epsilon(), 1)\n",
    "    return K.sum(y_true * K.log(y_true / y_pred), axis=-1)\n",
    "\n",
    "def own_mean_squared_error(y_true, y_pred):\n",
    "    return K.mean(K.square(y_pred - y_true), axis=-1)\n",
    "\n",
    "def own_loss(y_true, y_pred):\n",
    "    return own_kullback_leibler_divergence(y_true, y_pred)*0.05+own_mean_squared_error(y_true, y_pred)\n",
    "\n",
    "\n",
    "(x_train, y_train), (x_test, y_test) = mnist.load_data()\n",
    "\n",
    "x_train = x_train.astype('float32') / 255.0\n",
    "x_test = x_test.astype('float32') / 255.0\n",
    "x_train = x_train.reshape((len(x_train), np.prod(x_train.shape[1:])))\n",
    "x_test = x_test.reshape((len(x_test), np.prod(x_test.shape[1:])))\n",
    "\n",
    "x_9_list=[]\n",
    "for i in range(len(y_train)):\n",
    "    if (y_train[i] == 9):\n",
    "        x_9_list.append(x_train[i])\n",
    "x_9=np.asarray(x_9_list[:5000])\n",
    "x_9_list_test=[]\n",
    "for i in range(len(y_test)):\n",
    "    if (y_test[i] == 9):\n",
    "        x_9_list_test.append(x_test[i])\n",
    "x_9_test=np.asarray(x_9_list_test[:500])\n",
    "\n",
    "x_train=x_9\n",
    "x_test=x_9_test\n",
    "\n",
    "print(x_train.shape)\n",
    "print(x_test.shape)\n",
    "\n",
    "input_size = 784\n",
    "code_size = 49\n",
    "\n",
    "input_img = Input(shape=(input_size,))\n",
    "code = Dense(code_size, use_bias = False, activation='relu')(input_img)\n",
    "output_img = Dense(input_size, use_bias = False, activation='sigmoid')(code)\n",
    "\n",
    "autoencoder = Model(input_img, output_img)\n",
    "autoencoder.compile(optimizer='adam', loss=own_loss)\n",
    "\n",
    "autoencoder.fit(x_train, x_train, epochs=20)\n",
    "\n",
    "for i in range(len(autoencoder.get_weights())):\n",
    "    print(len(autoencoder.get_weights()[i]))\n",
    "\n",
    "plot_autoencoder_outputs(autoencoder, x_test, 5, (28, 28))\n",
    "\n",
    "weights = autoencoder.get_weights()[0].T\n",
    "\n",
    "n = 9\n",
    "plt.figure(figsize=(20, 5))\n",
    "for i in range(n):\n",
    "    ax = plt.subplot(1, n, i + 1)\n",
    "    plt.imshow(weights[i].reshape(28, 28))\n",
    "    ax.get_xaxis().set_visible(False)\n",
    "    ax.get_yaxis().set_visible(False)\n",
    "plt.show()"
   ]
  },
  {
   "cell_type": "code",
   "execution_count": 2,
   "metadata": {},
   "outputs": [
    {
     "name": "stdout",
     "output_type": "stream",
     "text": [
      "784\n",
      "pups\n",
      "pups\n"
     ]
    },
    {
     "data": {
      "image/png": "[encoded data removed]",
      "text/plain": [
       "<Figure size 1440x360 with 9 Axes>"
      ]
     },
     "metadata": {},
     "output_type": "display_data"
    }
   ],
   "source": [
    "    input_img_2 = Input(shape=(input_size,))\n",
    "    code_2 = Dense(code_size, activation='relu', use_bias = False)(input_img_2)\n",
    "    output_img_2 = Dense(input_size, activation='sigmoid', use_bias = False)(code)\n",
    "\n",
    "    #hidden_1_2.set_weights(weights)\n",
    "\n",
    "    autoencoder_2 = Model(input_img_2, code_2)\n",
    "    coding = autoencoder_2.predict(x_test)\n",
    "    \n",
    "    for i in range(len(autoencoder_2.get_weights())):\n",
    "        print(len(autoencoder_2.get_weights()[i]))\n",
    "    \n",
    "    for i in range(2):\n",
    "        autoencoder_2.layers[i].set_weights(autoencoder.layers[i].get_weights())\n",
    "        print('pups')\n",
    "\n",
    "    n = 9\n",
    "    plt.figure(figsize=(20, 5))\n",
    "    for i in range(n):\n",
    "        ax = plt.subplot(1, n, i + 1)\n",
    "        plt.imshow(coding[i].reshape(7, 7))\n",
    "        ax.get_xaxis().set_visible(False)\n",
    "        ax.get_yaxis().set_visible(False)\n",
    "    plt.show()\n"
   ]
  },
  {
   "cell_type": "code",
   "execution_count": 3,
   "metadata": {},
   "outputs": [
    {
     "name": "stdout",
     "output_type": "stream",
     "text": [
      "_________________________________________________________________\n",
      "Layer (type)                 Output Shape              Param #   \n",
      "=================================================================\n",
      "input_1 (InputLayer)         (None, 784)               0         \n",
      "_________________________________________________________________\n",
      "dense_1 (Dense)              (None, 49)                38416     \n",
      "_________________________________________________________________\n",
      "dense_2 (Dense)              (None, 784)               38416     \n",
      "=================================================================\n",
      "Total params: 76,832\n",
      "Trainable params: 76,832\n",
      "Non-trainable params: 0\n",
      "_________________________________________________________________\n"
     ]
    }
   ],
   "source": [
    "autoencoder.summary()"
   ]
  },
  {
   "cell_type": "code",
   "execution_count": 4,
   "metadata": {},
   "outputs": [
    {
     "name": "stdout",
     "output_type": "stream",
     "text": [
      "784\n"
     ]
    }
   ],
   "source": [
    "print(len(autoencoder.get_weights()[0]))"
   ]
  },
  {
   "cell_type": "code",
   "execution_count": 5,
   "metadata": {},
   "outputs": [
    {
     "name": "stdout",
     "output_type": "stream",
     "text": [
      "49\n"
     ]
    }
   ],
   "source": [
    "print(len(autoencoder.get_weights()[0][0]))"
   ]
  },
  {
   "cell_type": "code",
   "execution_count": 6,
   "metadata": {},
   "outputs": [
    {
     "name": "stdout",
     "output_type": "stream",
     "text": [
      "158 2.7199043969641097\n",
      "767 2.6626414194831884\n",
      "746 2.6194947909116504\n",
      "157 2.6037151145467257\n",
      "304 2.511031781111469\n",
      "156 2.4962361422402695\n",
      "159 2.467136998689582\n",
      "360 2.420625583446471\n",
      "332 2.39929639524891\n",
      "154 2.357324625700932\n"
     ]
    },
    {
     "data": {
      "image/png": "[encoded data removed]",
      "text/plain": [
       "<Figure size 1440x360 with 9 Axes>"
      ]
     },
     "metadata": {},
     "output_type": "display_data"
    },
    {
     "name": "stdout",
     "output_type": "stream",
     "text": [
      "[158, 767, 746, 157, 304, 156, 159, 360, 332, 154]\n"
     ]
    }
   ],
   "source": [
    "a = np.zeros((784))\n",
    "w = autoencoder.get_weights()[0]\n",
    "\n",
    "for i in range(784):\n",
    "    for j in range(49):\n",
    "        a[i]+=w[i][j]**2\n",
    "        \n",
    "a=np.sqrt(a)\n",
    "\n",
    "ww = np.zeros((500,784))\n",
    "\n",
    "for i in range(500):\n",
    "    for j in range(784):\n",
    "        ww[i][j]=x_test[i][j]*a[j]\n",
    "        \n",
    "n = 9\n",
    "plt.figure(figsize=(20, 5))\n",
    "for i in range(n):\n",
    "    ax = plt.subplot(1, n, i + 1)\n",
    "    plt.imshow(ww[i].reshape(28, 28))\n",
    "    ax.get_xaxis().set_visible(False)\n",
    "    ax.get_yaxis().set_visible(False)\n",
    "plt.show()\n"
   ]
  },
  {
   "cell_type": "code",
   "execution_count": 7,
   "metadata": {},
   "outputs": [
    {
     "data": {
      "image/png": "[encoded data removed]",
      "text/plain": [
       "<Figure size 1440x360 with 9 Axes>"
      ]
     },
     "metadata": {},
     "output_type": "display_data"
    }
   ],
   "source": [
    "b = np.argsort(a)\n",
    "c = []\n",
    "for i in range(10):\n",
    "    c.append(b[-i-1])\n",
    "    print(b[-i-1], a[b[-i-1]])\n",
    "\n",
    "print(c)\n",
    "\n",
    "x_temp = x_test\n",
    "\n",
    "for i in range(len(x_test)):\n",
    "    for j in c:\n",
    "        x_temp[i][j]=0.5\n",
    "        \n",
    "n = 9\n",
    "plt.figure(figsize=(20, 5))\n",
    "for i in range(n):\n",
    "    ax = plt.subplot(1, n, i + 1)\n",
    "    plt.imshow(x_temp[i].reshape(28, 28))\n",
    "    ax.get_xaxis().set_visible(False)\n",
    "    ax.get_yaxis().set_visible(False)\n",
    "plt.show()\n"
   ]
  },
  {
   "cell_type": "code",
   "execution_count": null,
   "metadata": {},
   "outputs": [],
   "source": []
  },
  {
   "cell_type": "code",
   "execution_count": null,
   "metadata": {},
   "outputs": [],
   "source": []
  }
 ],
 "metadata": {
  "kernelspec": {
   "display_name": "Python 3",
   "language": "python",
   "name": "python3"
  },
  "language_info": {
   "codemirror_mode": {
    "name": "ipython",
    "version": 3
   },
   "file_extension": ".py",
   "mimetype": "text/x-python",
   "name": "python",
   "nbconvert_exporter": "python",
   "pygments_lexer": "ipython3",
   "version": "3.6.5"
  }
 },
 "nbformat": 4,
 "nbformat_minor": 2
}
