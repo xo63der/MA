{
 "cells": [
  {
   "cell_type": "code",
   "execution_count": 19,
   "metadata": {},
   "outputs": [
    {
     "name": "stdout",
     "output_type": "stream",
     "text": [
      "(60000, 784)\n",
      "(10000, 784)\n"
     ]
    },
    {
     "data": {
      "image/png": "[encoded data removed]",
      "text/plain": [
       "<Figure size 1440x360 with 9 Axes>"
      ]
     },
     "metadata": {},
     "output_type": "display_data"
    },
    {
     "name": "stdout",
     "output_type": "stream",
     "text": [
      "[0.25       0.25       0.25       0.25       0.25       0.25\n",
      " 0.25       0.25       0.25       0.25       0.25       0.25\n",
      " 0.25       0.25       0.25       0.25       0.25       0.25\n",
      " 0.25       0.25       0.25       0.25       0.25       0.25\n",
      " 0.25       0.25       0.25       0.25       0.25       0.25\n",
      " 0.25       0.25       0.25       0.25       0.25       0.25\n",
      " 0.25       0.25       0.25       0.25       0.25       0.25\n",
      " 0.25       0.25       0.25       0.25       0.25       0.25\n",
      " 0.25       0.25       0.25       0.25       0.25       0.25\n",
      " 0.25       0.25       0.25       0.25       0.25       0.25\n",
      " 0.25       0.25       0.25       0.25       0.25       0.25\n",
      " 0.25       0.25       0.25       0.25       0.25       0.25\n",
      " 0.25       0.25       0.25       0.25       0.25       0.25\n",
      " 0.25       0.25       0.25       0.25       0.25       0.25\n",
      " 0.25       0.25       0.25       0.25       0.25       0.25\n",
      " 0.25       0.25       0.25       0.25       0.25       0.25\n",
      " 0.25       0.25       0.25       0.25       0.25       0.25\n",
      " 0.25       0.25       0.25       0.25       0.25       0.25\n",
      " 0.25       0.25       0.25       0.25       0.25       0.25\n",
      " 0.25       0.25       0.25       0.25       0.25       0.25\n",
      " 0.25       0.25       0.25       0.25       0.25       0.25\n",
      " 0.25       0.25       0.25       0.25       0.25       0.25\n",
      " 0.25       0.25       0.25       0.25       0.25       0.25\n",
      " 0.25       0.25       0.25       0.25       0.25       0.25\n",
      " 0.25       0.25       0.25       0.25       0.25       0.25\n",
      " 0.25       0.25       0.25588235 0.28529412 0.28529412 0.28529412\n",
      " 0.4970588  0.51666665 0.59313726 0.3009804  0.57549024 0.75\n",
      " 0.7343137  0.49901962 0.25       0.25       0.25       0.25\n",
      " 0.25       0.25       0.25       0.25       0.25       0.25\n",
      " 0.25       0.25       0.30882353 0.32058823 0.4343137  0.5519608\n",
      " 0.5833334  0.74607843 0.74607843 0.74607843 0.74607843 0.74607843\n",
      " 0.6911765  0.5872549  0.74607843 0.72450984 0.63235295 0.3754902\n",
      " 0.25       0.25       0.25       0.25       0.25       0.25\n",
      " 0.25       0.25       0.25       0.25       0.25       0.34607843\n",
      " 0.7166667  0.74607843 0.74607843 0.74607843 0.74607843 0.74607843\n",
      " 0.74607843 0.74607843 0.74607843 0.74215686 0.43235296 0.4107843\n",
      " 0.4107843  0.35980392 0.32647058 0.25       0.25       0.25\n",
      " 0.25       0.25       0.25       0.25       0.25       0.25\n",
      " 0.25       0.25       0.25       0.28529412 0.67941177 0.74607843\n",
      " 0.74607843 0.74607843 0.74607843 0.74607843 0.63823533 0.6068628\n",
      " 0.7343137  0.722549   0.25       0.25       0.25       0.25\n",
      " 0.25       0.25       0.25       0.25       0.25       0.25\n",
      " 0.25       0.25       0.25       0.25       0.25       0.25\n",
      " 0.25       0.25       0.40686274 0.55588233 0.45980394 0.74607843\n",
      " 0.74607843 0.6519608  0.27156863 0.25       0.33431372 0.5519608\n",
      " 0.25       0.25       0.25       0.25       0.25       0.25\n",
      " 0.25       0.25       0.25       0.25       0.25       0.25\n",
      " 0.25       0.25       0.25       0.25       0.25       0.25\n",
      " 0.25       0.27745098 0.25196078 0.5519608  0.74607843 0.42647058\n",
      " 0.25       0.25       0.25       0.25       0.25       0.25\n",
      " 0.25       0.25       0.25       0.25       0.25       0.25\n",
      " 0.25       0.25       0.25       0.25       0.25       0.25\n",
      " 0.25       0.25       0.25       0.25       0.25       0.25\n",
      " 0.25       0.52254903 0.74607843 0.62254906 0.25392157 0.25\n",
      " 0.25       0.25       0.25       0.25       0.25       0.25\n",
      " 0.25       0.25       0.25       0.25       0.25       0.25\n",
      " 0.25       0.25       0.25       0.25       0.25       0.25\n",
      " 0.25       0.25       0.25       0.25       0.25       0.27156863\n",
      " 0.62254906 0.74607843 0.3872549  0.25       0.25       0.25\n",
      " 0.25       0.25       0.25       0.25       0.25       0.25\n",
      " 0.25       0.25       0.25       0.25       0.25       0.25\n",
      " 0.25       0.25       0.25       0.25       0.25       0.25\n",
      " 0.25       0.25       0.25       0.25       0.31862745 0.722549\n",
      " 0.6911765  0.5637255  0.4617647  0.25196078 0.25       0.25\n",
      " 0.25       0.25       0.25       0.25       0.25       0.25\n",
      " 0.25       0.25       0.25       0.25       0.25       0.25\n",
      " 0.25       0.25       0.25       0.25       0.25       0.25\n",
      " 0.25       0.25       0.25       0.40882355 0.7205882  0.74607843\n",
      " 0.74607843 0.48333335 0.2990196  0.25       0.25       0.25\n",
      " 0.25       0.25       0.25       0.25       0.25       0.25\n",
      " 0.25       0.25       0.25       0.25       0.25       0.25\n",
      " 0.25       0.25       0.25       0.25       0.25       0.25\n",
      " 0.25       0.25       0.3382353  0.6147059  0.74607843 0.74607843\n",
      " 0.5441177  0.30294117 0.25       0.25       0.25       0.25\n",
      " 0.25       0.25       0.25       0.25       0.25       0.25\n",
      " 0.25       0.25       0.25       0.25       0.25       0.25\n",
      " 0.25       0.25       0.25       0.25       0.25       0.25\n",
      " 0.25       0.28137255 0.43235296 0.7441176  0.74607843 0.6166667\n",
      " 0.25       0.25       0.25       0.25       0.25       0.25\n",
      " 0.25       0.25       0.25       0.25       0.25       0.25\n",
      " 0.25       0.25       0.25       0.25       0.25       0.25\n",
      " 0.25       0.25       0.25       0.25       0.25       0.25\n",
      " 0.25       0.7382353  0.74607843 0.7382353  0.3754902  0.25\n",
      " 0.25       0.25       0.25       0.25       0.25       0.25\n",
      " 0.25       0.25       0.25       0.25       0.25       0.25\n",
      " 0.25       0.25       0.25       0.25       0.25       0.25\n",
      " 0.25       0.25       0.34019607 0.504902   0.60882354 0.74607843\n",
      " 0.74607843 0.65588236 0.25392157 0.25       0.25       0.25\n",
      " 0.25       0.25       0.25       0.25       0.25       0.25\n",
      " 0.25       0.25       0.25       0.25       0.25       0.25\n",
      " 0.25       0.25       0.25       0.25       0.32647058 0.54019606\n",
      " 0.6990196  0.74607843 0.74607843 0.74607843 0.7401961  0.6068628\n",
      " 0.25       0.25       0.25       0.25       0.25       0.25\n",
      " 0.25       0.25       0.25       0.25       0.25       0.25\n",
      " 0.25       0.25       0.25       0.25       0.25       0.25\n",
      " 0.29705882 0.4735294  0.68333334 0.74607843 0.74607843 0.74607843\n",
      " 0.74607843 0.64411765 0.40294117 0.25       0.25       0.25\n",
      " 0.25       0.25       0.25       0.25       0.25       0.25\n",
      " 0.25       0.25       0.25       0.25       0.25       0.25\n",
      " 0.25       0.25       0.29509804 0.37941176 0.66764706 0.74607843\n",
      " 0.74607843 0.74607843 0.74607843 0.63823533 0.40882355 0.25392157\n",
      " 0.25       0.25       0.25       0.25       0.25       0.25\n",
      " 0.25       0.25       0.25       0.25       0.25       0.25\n",
      " 0.25       0.25       0.25       0.25       0.28529412 0.5852941\n",
      " 0.67941177 0.74607843 0.74607843 0.74607843 0.74607843 0.63235295\n",
      " 0.40686274 0.26764706 0.25       0.25       0.25       0.25\n",
      " 0.25       0.25       0.25       0.25       0.25       0.25\n",
      " 0.25       0.25       0.25       0.25       0.25       0.25\n",
      " 0.35784313 0.5872549  0.6931373  0.74607843 0.74607843 0.74607843\n",
      " 0.74607843 0.72843134 0.5107843  0.27156863 0.25       0.25\n",
      " 0.25       0.25       0.25       0.25       0.25       0.25\n",
      " 0.25       0.25       0.25       0.25       0.25       0.25\n",
      " 0.25       0.25       0.25       0.25       0.51666665 0.74607843\n",
      " 0.74607843 0.74607843 0.66568625 0.5147059  0.5088235  0.28137255\n",
      " 0.25       0.25       0.25       0.25       0.25       0.25\n",
      " 0.25       0.25       0.25       0.25       0.25       0.25\n",
      " 0.25       0.25       0.25       0.25       0.25       0.25\n",
      " 0.25       0.25       0.25       0.25       0.25       0.25\n",
      " 0.25       0.25       0.25       0.25       0.25       0.25\n",
      " 0.25       0.25       0.25       0.25       0.25       0.25\n",
      " 0.25       0.25       0.25       0.25       0.25       0.25\n",
      " 0.25       0.25       0.25       0.25       0.25       0.25\n",
      " 0.25       0.25       0.25       0.25       0.25       0.25\n",
      " 0.25       0.25       0.25       0.25       0.25       0.25\n",
      " 0.25       0.25       0.25       0.25       0.25       0.25\n",
      " 0.25       0.25       0.25       0.25       0.25       0.25\n",
      " 0.25       0.25       0.25       0.25       0.25       0.25\n",
      " 0.25       0.25       0.25       0.25       0.25       0.25\n",
      " 0.25       0.25       0.25       0.25       0.25       0.25\n",
      " 0.25       0.25       0.25       0.25       0.25       0.25\n",
      " 0.25       0.25       0.25       0.25      ]\n",
      "Epoch 1/5\n"
     ]
    },
    {
     "name": "stdout",
     "output_type": "stream",
     "text": [
      "60000/60000 [==============================] - 4s 69us/step - loss: 0.0085\n",
      "Epoch 2/5\n",
      "60000/60000 [==============================] - 4s 68us/step - loss: 0.0052\n",
      "Epoch 3/5\n",
      "60000/60000 [==============================] - 4s 69us/step - loss: 0.0052\n",
      "Epoch 4/5\n",
      "60000/60000 [==============================] - 4s 64us/step - loss: 0.0051\n",
      "Epoch 5/5\n",
      "60000/60000 [==============================] - 4s 64us/step - loss: 0.0051\n",
      "784\n",
      "49\n"
     ]
    },
    {
     "data": {
      "image/png": "[encoded data removed]",
      "text/plain": [
       "<Figure size 720x324 with 10 Axes>"
      ]
     },
     "metadata": {},
     "output_type": "display_data"
    },
    {
     "data": {
      "image/png": "[encoded data removed]",
      "text/plain": [
       "<Figure size 1440x360 with 9 Axes>"
      ]
     },
     "metadata": {},
     "output_type": "display_data"
    }
   ],
   "source": [
    "# %matplotlib inline\n",
    "# %config InlineBackend.figure_format = 'retina'\n",
    "\n",
    "from __future__ import print_function\n",
    "from keras.models import Model\n",
    "from keras.layers import Dense, Input\n",
    "from keras.datasets import mnist\n",
    "from keras.regularizers import l1\n",
    "from keras.optimizers import Adam\n",
    "from keras import backend as K\n",
    "\n",
    "import matplotlib.pyplot as plt\n",
    "import pandas as pd\n",
    "import numpy as np\n",
    "import seaborn as sns\n",
    "import warnings\n",
    "\n",
    "warnings.filterwarnings('ignore')\n",
    "\n",
    "def plot_autoencoder_outputs(autoencoder, x_test, n, dims):\n",
    "    decoded_imgs = autoencoder.predict(x_test)\n",
    "\n",
    "    # number of example digits to show\n",
    "    n = 5\n",
    "    plt.figure(figsize=(10, 4.5))\n",
    "    for i in range(n):\n",
    "        # plot original image\n",
    "        ax = plt.subplot(2, n, i + 1)\n",
    "        plt.imshow(x_test[i].reshape(*dims))\n",
    "        plt.gray()\n",
    "        ax.get_xaxis().set_visible(False)\n",
    "        ax.get_yaxis().set_visible(False)\n",
    "        if i == n/2:\n",
    "            ax.set_title('Original Images')\n",
    "\n",
    "        # plot reconstruction \n",
    "        ax = plt.subplot(2, n, i + 1 + n)\n",
    "        plt.imshow(decoded_imgs[i].reshape(*dims))\n",
    "        plt.gray()\n",
    "        ax.get_xaxis().set_visible(False)\n",
    "        ax.get_yaxis().set_visible(False)\n",
    "        if i == n/2:\n",
    "            ax.set_title('Reconstructed Images')\n",
    "    plt.show()\n",
    "\n",
    "    (x_train, y_train), (x_test, y_test) = mnist.load_data()\n",
    "\n",
    "def own_kullback_leibler_divergence(y_true, y_pred):\n",
    "    y_true = K.clip(y_true, K.epsilon(), 1)\n",
    "    y_pred = K.clip(y_pred, K.epsilon(), 1)\n",
    "    return K.sum(y_true * K.log(y_true / y_pred), axis=-1)\n",
    "\n",
    "def own_mean_squared_error(y_true, y_pred):\n",
    "    return K.mean(K.square(y_pred - y_true), axis=-1)\n",
    "\n",
    "def own_loss(y_true, y_pred):\n",
    "    return own_kullback_leibler_divergence(y_true, y_pred)*0.5+own_mean_squared_error(y_true, y_pred)\n",
    "\n",
    "\n",
    "(x_train, y_train), (x_test, y_test) = mnist.load_data()\n",
    "\n",
    "x_train = 0.25 + x_train.astype('float32') / 255.0 / 2.0\n",
    "x_test = 0.25 + x_test.astype('float32') / 255.0 / 2.0\n",
    "x_train = x_train.reshape((len(x_train), np.prod(x_train.shape[1:])))\n",
    "x_test = x_test.reshape((len(x_test), np.prod(x_test.shape[1:])))\n",
    "\n",
    "print(x_train.shape)\n",
    "print(x_test.shape)\n",
    "\n",
    "input_size = 784\n",
    "code_size = 49\n",
    "\n",
    "input_img = Input(shape=(input_size,))\n",
    "code = Dense(code_size, use_bias = False, activation='relu')(input_img)\n",
    "output_img = Dense(input_size, use_bias = False, activation='sigmoid')(code)\n",
    "\n",
    "n = 9\n",
    "plt.figure(figsize=(20, 5))\n",
    "for i in range(n):\n",
    "    ax = plt.subplot(1, n, i + 1)\n",
    "    plt.imshow(x_train[i].reshape(28, 28))\n",
    "    ax.get_xaxis().set_visible(False)\n",
    "    ax.get_yaxis().set_visible(False)\n",
    "plt.show()\n",
    "\n",
    "print(x_train[0])\n",
    "\n",
    "autoencoder = Model(input_img, output_img)\n",
    "autoencoder.compile(optimizer='adam', loss='mean_squared_error')\n",
    "\n",
    "autoencoder.fit(x_train, x_train, epochs=5)\n",
    "\n",
    "for i in range(len(autoencoder.get_weights())):\n",
    "    print(len(autoencoder.get_weights()[i]))\n",
    "\n",
    "plot_autoencoder_outputs(autoencoder, x_test, 5, (28, 28))\n",
    "\n",
    "weights = autoencoder.get_weights()[0].T\n",
    "\n",
    "n = 9\n",
    "plt.figure(figsize=(20, 5))\n",
    "for i in range(n):\n",
    "    ax = plt.subplot(1, n, i + 1)\n",
    "    plt.imshow(weights[i].reshape(28, 28))\n",
    "    ax.get_xaxis().set_visible(False)\n",
    "    ax.get_yaxis().set_visible(False)\n",
    "plt.show()\n"
   ]
  },
  {
   "cell_type": "code",
   "execution_count": 20,
   "metadata": {},
   "outputs": [
    {
     "name": "stdout",
     "output_type": "stream",
     "text": [
      "784\n",
      "pups\n",
      "pups\n"
     ]
    },
    {
     "data": {
      "image/png": "[encoded data removed]",
      "text/plain": [
       "<Figure size 1440x360 with 9 Axes>"
      ]
     },
     "metadata": {},
     "output_type": "display_data"
    }
   ],
   "source": [
    "    input_img_2 = Input(shape=(input_size,))\n",
    "    code_2 = Dense(code_size, activation='relu', use_bias = False)(input_img_2)\n",
    "    output_img_2 = Dense(input_size, activation='sigmoid', use_bias = False)(code)\n",
    "\n",
    "    #hidden_1_2.set_weights(weights)\n",
    "\n",
    "    autoencoder_2 = Model(input_img_2, code_2)\n",
    "    coding = autoencoder_2.predict(x_test)\n",
    "    \n",
    "    for i in range(len(autoencoder_2.get_weights())):\n",
    "        print(len(autoencoder_2.get_weights()[i]))\n",
    "    \n",
    "    for i in range(2):\n",
    "        autoencoder_2.layers[i].set_weights(autoencoder.layers[i].get_weights())\n",
    "        print('pups')\n",
    "\n",
    "    n = 9\n",
    "    plt.figure(figsize=(20, 5))\n",
    "    for i in range(n):\n",
    "        ax = plt.subplot(1, n, i + 1)\n",
    "        plt.imshow(coding[i].reshape(7, 7))\n",
    "        ax.get_xaxis().set_visible(False)\n",
    "        ax.get_yaxis().set_visible(False)\n",
    "    plt.show()\n"
   ]
  },
  {
   "cell_type": "code",
   "execution_count": 21,
   "metadata": {},
   "outputs": [
    {
     "name": "stdout",
     "output_type": "stream",
     "text": [
      "_________________________________________________________________\n",
      "Layer (type)                 Output Shape              Param #   \n",
      "=================================================================\n",
      "input_10 (InputLayer)        (None, 784)               0         \n",
      "_________________________________________________________________\n",
      "dense_19 (Dense)             (None, 49)                38416     \n",
      "_________________________________________________________________\n",
      "dense_20 (Dense)             (None, 784)               38416     \n",
      "=================================================================\n",
      "Total params: 76,832\n",
      "Trainable params: 76,832\n",
      "Non-trainable params: 0\n",
      "_________________________________________________________________\n"
     ]
    }
   ],
   "source": [
    "autoencoder.summary()"
   ]
  },
  {
   "cell_type": "code",
   "execution_count": 22,
   "metadata": {},
   "outputs": [
    {
     "name": "stdout",
     "output_type": "stream",
     "text": [
      "784\n"
     ]
    }
   ],
   "source": [
    "print(len(autoencoder.get_weights()[0]))"
   ]
  },
  {
   "cell_type": "code",
   "execution_count": 23,
   "metadata": {},
   "outputs": [
    {
     "name": "stdout",
     "output_type": "stream",
     "text": [
      "49\n"
     ]
    }
   ],
   "source": [
    "print(len(autoencoder.get_weights()[0][0]))"
   ]
  },
  {
   "cell_type": "code",
   "execution_count": 24,
   "metadata": {},
   "outputs": [
    {
     "data": {
      "image/png": "[encoded data removed]",
      "text/plain": [
       "<Figure size 1440x360 with 9 Axes>"
      ]
     },
     "metadata": {},
     "output_type": "display_data"
    }
   ],
   "source": [
    "a = np.zeros((784))\n",
    "w = autoencoder.get_weights()[0]\n",
    "\n",
    "for i in range(784):\n",
    "    for j in range(49):\n",
    "        a[i]+=w[i][j]**2\n",
    "        \n",
    "a=np.sqrt(a)\n",
    "\n",
    "ww = np.zeros((len(x_test),784))\n",
    "\n",
    "for i in range(len(x_test)):\n",
    "    for j in range(784):\n",
    "        ww[i][j]=x_test[i][j]*a[j]\n",
    "        \n",
    "n = 9\n",
    "plt.figure(figsize=(20, 5))\n",
    "for i in range(n):\n",
    "    ax = plt.subplot(1, n, i + 1)\n",
    "    plt.imshow(ww[i].reshape(28, 28))\n",
    "    ax.get_xaxis().set_visible(False)\n",
    "    ax.get_yaxis().set_visible(False)\n",
    "plt.show()\n"
   ]
  },
  {
   "cell_type": "code",
   "execution_count": 25,
   "metadata": {},
   "outputs": [
    {
     "name": "stdout",
     "output_type": "stream",
     "text": [
      "212 0.7909768694427148\n",
      "240 0.7818908211927892\n",
      "213 0.7729413584900173\n",
      "241 0.7542402756202284\n",
      "211 0.7540307990420791\n",
      "270 0.744051720844284\n",
      "239 0.7394382398530129\n",
      "268 0.7355785886596135\n",
      "242 0.7345400392435485\n",
      "214 0.7331274679365282\n",
      "[212, 240, 213, 241, 211, 270, 239, 268, 242, 214]\n"
     ]
    },
    {
     "data": {
      "image/png": "[encoded data removed]",
      "text/plain": [
       "<Figure size 1440x360 with 9 Axes>"
      ]
     },
     "metadata": {},
     "output_type": "display_data"
    }
   ],
   "source": [
    "b = np.argsort(a)\n",
    "c = []\n",
    "for i in range(10):\n",
    "    c.append(b[-i-1])\n",
    "    print(b[-i-1], a[b[-i-1]])\n",
    "\n",
    "print(c)\n",
    "\n",
    "x_temp = x_test\n",
    "\n",
    "for i in range(len(x_test)):\n",
    "    for j in c:\n",
    "        x_temp[i][j]=0.5\n",
    "        \n",
    "n = 9\n",
    "plt.figure(figsize=(20, 5))\n",
    "for i in range(n):\n",
    "    ax = plt.subplot(1, n, i + 1)\n",
    "    plt.imshow(x_temp[i].reshape(28, 28))\n",
    "    ax.get_xaxis().set_visible(False)\n",
    "    ax.get_yaxis().set_visible(False)\n",
    "plt.show()\n"
   ]
  },
  {
   "cell_type": "code",
   "execution_count": 26,
   "metadata": {},
   "outputs": [
    {
     "data": {
      "image/png": "[encoded data removed]",
      "text/plain": [
       "<Figure size 1440x360 with 1 Axes>"
      ]
     },
     "metadata": {},
     "output_type": "display_data"
    }
   ],
   "source": [
    "n = 1\n",
    "plt.figure(figsize=(20, 5))\n",
    "for i in range(n):\n",
    "    ax = plt.subplot(1, n, i + 1)\n",
    "    plt.imshow(a.reshape(28, 28))\n",
    "    ax.get_xaxis().set_visible(False)\n",
    "    ax.get_yaxis().set_visible(False)\n",
    "plt.show()"
   ]
  },
  {
   "cell_type": "code",
   "execution_count": 27,
   "metadata": {},
   "outputs": [
    {
     "name": "stdout",
     "output_type": "stream",
     "text": [
      "[0.47711522 0.51837315 0.47617459 0.48536756 0.5082377  0.44952189\n",
      " 0.48630436 0.4361785  0.49124546 0.44185342 0.43195409 0.46473241\n",
      " 0.46377549 0.47582205 0.4959488  0.45644867 0.47018267 0.53083826\n",
      " 0.46137884 0.45355742 0.46917247 0.52229881 0.43221541 0.49758276\n",
      " 0.46448634 0.48990734 0.43023199 0.4845874  0.44180984 0.45749556\n",
      " 0.4879226  0.49045132 0.44580823 0.42189236 0.38796644 0.47464644\n",
      " 0.40861367 0.46469857 0.41459204 0.41107016 0.42253416 0.38533286\n",
      " 0.3626833  0.37709314 0.41811435 0.43060408 0.37614628 0.478668\n",
      " 0.4764777  0.50946762 0.46076754 0.47198946 0.44922539 0.40610382\n",
      " 0.47680521 0.49327638 0.45015624 0.46260423 0.50943945 0.45768587\n",
      " 0.4133661  0.43218994 0.42957639 0.42980085 0.37500312 0.33420641\n",
      " 0.2973109  0.36847897 0.3176108  0.34400341 0.33596732 0.34528009\n",
      " 0.30743732 0.4006178  0.33245414 0.30784115 0.32628488 0.31589361\n",
      " 0.34536251 0.36904474 0.41732029 0.46380015 0.44399512 0.51039233\n",
      " 0.4628521  0.55655298 0.50792794 0.42087836 0.45089478 0.40408617\n",
      " 0.3290369  0.32746263 0.27694564 0.37199633 0.35663671 0.36398101\n",
      " 0.35060686 0.359418   0.38018951 0.41380696 0.44379013 0.40236045\n",
      " 0.39277349 0.37324111 0.33967861 0.33004673 0.31537868 0.37716481\n",
      " 0.42365176 0.46357211 0.45749585 0.44254572 0.50789485 0.48254547\n",
      " 0.46414033 0.38180141 0.44715812 0.34722313 0.35776872 0.30846084\n",
      " 0.32063928 0.33990212 0.36767189 0.40095118 0.44796385 0.49581922\n",
      " 0.49817511 0.51798298 0.52210731 0.53890153 0.51964928 0.45207191\n",
      " 0.41866347 0.32503255 0.36156232 0.29089553 0.37554173 0.36765005\n",
      " 0.37311552 0.49069127 0.43143782 0.51140479 0.47365983 0.43638204\n",
      " 0.34624268 0.29916692 0.38284407 0.33897464 0.35872567 0.46403137\n",
      " 0.45707534 0.49105941 0.5368662  0.57085136 0.59479596 0.58386913\n",
      " 0.63482428 0.63131771 0.61197239 0.55111067 0.56748745 0.42976118\n",
      " 0.32722019 0.35086529 0.30031083 0.30424428 0.48380031 0.45555917\n",
      " 0.46296323 0.52004084 0.41821338 0.35779824 0.30404582 0.30839615\n",
      " 0.34772336 0.41209441 0.40283172 0.49103789 0.51185958 0.53330641\n",
      " 0.59128921 0.59874665 0.69297057 0.66351691 0.68770579 0.63867656\n",
      " 0.64117614 0.62134165 0.5583938  0.49843466 0.44195414 0.33287134\n",
      " 0.34803899 0.28698618 0.35348545 0.42143137 0.45582769 0.43725974\n",
      " 0.3885124  0.34299436 0.36421721 0.33134516 0.34995167 0.4341785\n",
      " 0.52229895 0.52018008 0.58604717 0.59183726 0.64016329 0.71395866\n",
      " 0.71217681 0.7540308  0.79097687 0.77294136 0.73312747 0.66836743\n",
      " 0.55563394 0.48887757 0.42758158 0.41038514 0.32318976 0.33579546\n",
      " 0.35699143 0.46299319 0.44600261 0.42255396 0.37478737 0.35051397\n",
      " 0.37756942 0.35915673 0.41977199 0.45530342 0.52864137 0.58400058\n",
      " 0.63703039 0.64586308 0.65212876 0.70082572 0.72906682 0.73943824\n",
      " 0.78189082 0.75424028 0.73454004 0.70016611 0.57744258 0.50916494\n",
      " 0.46832641 0.37096594 0.34231609 0.34190558 0.33018928 0.47269774\n",
      " 0.43338297 0.45007336 0.31506304 0.35576176 0.36470185 0.32353569\n",
      " 0.44684843 0.47891904 0.53909324 0.61665191 0.65037561 0.63836123\n",
      " 0.66085096 0.63531539 0.66236039 0.66839298 0.73557859 0.68864633\n",
      " 0.74405172 0.71192645 0.64637813 0.55094496 0.43414433 0.39855759\n",
      " 0.32156858 0.29832873 0.36231095 0.46959443 0.38933056 0.3762893\n",
      " 0.35112719 0.37130035 0.32277654 0.29796604 0.40608547 0.44036801\n",
      " 0.58251427 0.62319358 0.59724948 0.65255478 0.596285   0.60976782\n",
      " 0.6544263  0.67577222 0.6633258  0.66305304 0.69443217 0.6806815\n",
      " 0.61245819 0.49450416 0.40866893 0.30648246 0.36253338 0.28666032\n",
      " 0.40238314 0.41557297 0.40938894 0.47474152 0.36605497 0.352793\n",
      " 0.30268699 0.40062532 0.41353    0.48812931 0.51873758 0.62967265\n",
      " 0.62557584 0.58802258 0.61822684 0.63057736 0.62740489 0.62169348\n",
      " 0.67974646 0.66141357 0.68530906 0.64545486 0.58227704 0.45876889\n",
      " 0.35838506 0.33637953 0.32418785 0.32231424 0.38932341 0.45052468\n",
      " 0.5014992  0.47857468 0.39162122 0.31339719 0.33272824 0.30163238\n",
      " 0.41385938 0.47703584 0.56138445 0.6038567  0.64469886 0.64777862\n",
      " 0.63928954 0.63379743 0.59969936 0.62745642 0.71047277 0.71286474\n",
      " 0.67388439 0.59317043 0.55030741 0.48423179 0.40380239 0.36004967\n",
      " 0.28751248 0.33323082 0.428954   0.45513196 0.45645778 0.45775944\n",
      " 0.39668688 0.3253327  0.32792404 0.35212761 0.45298239 0.47147639\n",
      " 0.57786705 0.61623353 0.64629638 0.66967097 0.64738387 0.69204504\n",
      " 0.65964534 0.62055577 0.69779246 0.69247107 0.67177161 0.63330052\n",
      " 0.5278202  0.40937453 0.3443393  0.37135979 0.37397164 0.35193087\n",
      " 0.36678574 0.46654712 0.41710983 0.42651518 0.43215302 0.34471138\n",
      " 0.25306076 0.4082459  0.42751483 0.51067893 0.58364935 0.626066\n",
      " 0.65800816 0.68656368 0.70562331 0.71749169 0.66824433 0.64568906\n",
      " 0.68420561 0.68403106 0.68392121 0.6153058  0.51491045 0.48335509\n",
      " 0.35654839 0.36049069 0.32607864 0.35684821 0.44562859 0.42807252\n",
      " 0.50264816 0.48904435 0.46915029 0.33236219 0.37704484 0.39233874\n",
      " 0.4546981  0.46600243 0.61036227 0.64439117 0.65975471 0.64049975\n",
      " 0.71517934 0.6769524  0.65141633 0.6611099  0.62935559 0.66327254\n",
      " 0.67442486 0.63275882 0.59782921 0.47168829 0.37514686 0.36183422\n",
      " 0.35176096 0.30023317 0.35168567 0.45785539 0.45583925 0.44249172\n",
      " 0.37203747 0.28927656 0.31016834 0.40605539 0.44229328 0.51328209\n",
      " 0.60126248 0.65104343 0.62160381 0.66084289 0.63976731 0.64944556\n",
      " 0.6518121  0.66633924 0.63538877 0.65747808 0.63895482 0.60554248\n",
      " 0.55948617 0.51272329 0.37746678 0.35572007 0.31439238 0.33730603\n",
      " 0.37434734 0.47666566 0.48531949 0.43823829 0.45068436 0.35423904\n",
      " 0.30419279 0.4129152  0.43364115 0.46484904 0.59810126 0.55826552\n",
      " 0.6388243  0.62511456 0.6326193  0.64866099 0.67972876 0.68176243\n",
      " 0.65578852 0.6559685  0.62190037 0.58322669 0.53210642 0.50389051\n",
      " 0.41295959 0.37478547 0.36092228 0.30963392 0.35581439 0.4943515\n",
      " 0.4456425  0.45534339 0.35352318 0.28481483 0.36156329 0.40678249\n",
      " 0.44955578 0.46942277 0.52720096 0.58249657 0.57297098 0.59684139\n",
      " 0.62498998 0.58708036 0.66637936 0.66616767 0.69582771 0.65198447\n",
      " 0.65450381 0.58715622 0.56988995 0.4310172  0.39318325 0.32851816\n",
      " 0.34141392 0.30409122 0.3888999  0.45869046 0.44257706 0.53523854\n",
      " 0.3369326  0.33274427 0.3362467  0.45075915 0.48313528 0.51034418\n",
      " 0.54419026 0.58548873 0.63457716 0.65562369 0.60938447 0.57850851\n",
      " 0.59319823 0.64896159 0.69197062 0.68488066 0.61886633 0.59179922\n",
      " 0.4999461  0.47106454 0.35954326 0.33486145 0.33091784 0.30173788\n",
      " 0.44347743 0.53182233 0.44580548 0.42220855 0.39208894 0.32087545\n",
      " 0.33857998 0.40992482 0.48831386 0.51205875 0.57415237 0.63541556\n",
      " 0.61462765 0.66009613 0.65193991 0.62761226 0.66618734 0.67954502\n",
      " 0.71790331 0.72221445 0.61754056 0.55127061 0.46976907 0.43540164\n",
      " 0.3094603  0.33443813 0.36249206 0.31425274 0.38862159 0.40291389\n",
      " 0.47713572 0.49647988 0.33398566 0.36428078 0.29697739 0.36790747\n",
      " 0.46743906 0.55523943 0.55475222 0.57789478 0.62864689 0.70868298\n",
      " 0.72618192 0.73052367 0.69766375 0.72248637 0.6783815  0.60597262\n",
      " 0.54024691 0.46212608 0.43846007 0.39105622 0.30763341 0.29370333\n",
      " 0.3197549  0.30958097 0.45165392 0.46521577 0.45774847 0.49467836\n",
      " 0.35271295 0.30674298 0.34196496 0.32332426 0.42820771 0.4995505\n",
      " 0.54828091 0.59436597 0.62932357 0.65186781 0.69034545 0.73053099\n",
      " 0.70207079 0.66442361 0.56970065 0.53468077 0.50256815 0.4539811\n",
      " 0.36475578 0.39802207 0.28801923 0.33593866 0.34665584 0.41475298\n",
      " 0.44359586 0.42548118 0.45235942 0.45464189 0.39926874 0.33360908\n",
      " 0.27047939 0.33175913 0.33945595 0.40082787 0.50948368 0.53740753\n",
      " 0.59592866 0.61978962 0.60308108 0.65010544 0.67196299 0.62317399\n",
      " 0.55654933 0.4946407  0.4752886  0.34966208 0.30773365 0.33265545\n",
      " 0.30286724 0.31474593 0.3448026  0.39762745 0.4984812  0.42853651\n",
      " 0.46625745 0.4429537  0.40631956 0.35919293 0.34018365 0.30270607\n",
      " 0.34473087 0.36448121 0.45389822 0.43499394 0.53114449 0.47106227\n",
      " 0.53712147 0.55308383 0.5599266  0.52843595 0.43344437 0.38843567\n",
      " 0.41371783 0.36108242 0.34747457 0.3200369  0.33087656 0.34167038\n",
      " 0.39788804 0.41547631 0.43128037 0.43035296 0.45551698 0.50633156\n",
      " 0.41181878 0.45848907 0.39487422 0.31239283 0.3245886  0.34145872\n",
      " 0.36052527 0.38767893 0.3624503  0.39872564 0.33835029 0.45354453\n",
      " 0.41960901 0.36172032 0.35503363 0.41990318 0.34694923 0.38900585\n",
      " 0.29950163 0.33638355 0.37800931 0.36083112 0.47781122 0.49340438\n",
      " 0.47238845 0.45359531 0.4539039  0.46597919 0.42958185 0.47514524\n",
      " 0.4562657  0.39488357 0.33179485 0.39594645 0.38821373 0.312156\n",
      " 0.33788529 0.36364882 0.34678155 0.36417605 0.34361382 0.3847831\n",
      " 0.33314954 0.30969142 0.34645709 0.29040351 0.30985655 0.37809529\n",
      " 0.37632753 0.47267221 0.41962625 0.42922886 0.45364037 0.46670422\n",
      " 0.50348496 0.46416068 0.48323799 0.42018336 0.43691266 0.44594674\n",
      " 0.45855458 0.42451943 0.37190866 0.39548597 0.36484058 0.3458713\n",
      " 0.34778231 0.38398774 0.33492601 0.36935622 0.38134626 0.41199352\n",
      " 0.40362045 0.43697269 0.40702831 0.45900755 0.4455583  0.51448866\n",
      " 0.45635405 0.46769661 0.42700133 0.43549314]\n"
     ]
    }
   ],
   "source": [
    "print(a)"
   ]
  },
  {
   "cell_type": "code",
   "execution_count": null,
   "metadata": {},
   "outputs": [],
   "source": []
  }
 ],
 "metadata": {
  "kernelspec": {
   "display_name": "Python 3",
   "language": "python",
   "name": "python3"
  },
  "language_info": {
   "codemirror_mode": {
    "name": "ipython",
    "version": 3
   },
   "file_extension": ".py",
   "mimetype": "text/x-python",
   "name": "python",
   "nbconvert_exporter": "python",
   "pygments_lexer": "ipython3",
   "version": "3.6.5"
  }
 },
 "nbformat": 4,
 "nbformat_minor": 2
}
