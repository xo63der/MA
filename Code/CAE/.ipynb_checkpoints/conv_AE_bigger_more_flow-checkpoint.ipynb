{
 "cells": [
  {
   "cell_type": "code",
   "execution_count": 2,
   "metadata": {},
   "outputs": [
    {
     "name": "stderr",
     "output_type": "stream",
     "text": [
      "/home/hoffmann/anaconda3/lib/python3.6/site-packages/h5py/__init__.py:36: FutureWarning: Conversion of the second argument of issubdtype from `float` to `np.floating` is deprecated. In future, it will be treated as `np.float64 == np.dtype(float).type`.\n",
      "  from ._conv import register_converters as _register_converters\n",
      "Using TensorFlow backend.\n"
     ]
    },
    {
     "name": "stdout",
     "output_type": "stream",
     "text": [
      "Found 845 images belonging to 1 classes.\n",
      "Found 37 images belonging to 1 classes.\n"
     ]
    }
   ],
   "source": [
    "###### %matplotlib inline\n",
    "# %config InlineBackend.figure_format = 'retina'\n",
    "\n",
    "# convolutional autoencoder in keras\n",
    "\n",
    "import os\n",
    "#os.environ[\"KERAS_BACKEND\"] = \"tensorflow\"\n",
    "\n",
    "from __future__ import print_function\n",
    "from keras.models import Model\n",
    "from keras.layers import *\n",
    "from keras.datasets import mnist\n",
    "from keras.preprocessing.image import ImageDataGenerator\n",
    "from keras.optimizers import Adam\n",
    "from keras import backend as K\n",
    "\n",
    "import matplotlib.pyplot as plt\n",
    "# %matplotlib inline\n",
    "\n",
    "from keras.datasets import mnist \n",
    "\n",
    "import matplotlib.pyplot as plt\n",
    "import pandas as pd\n",
    "import numpy as np\n",
    "import seaborn as sns\n",
    "import warnings\n",
    "\n",
    "warnings.filterwarnings('ignore')\n",
    "\n",
    "# utility function for showing images\n",
    "def show_imgs(x_test, decoded_imgs, n=4):\n",
    "    plt.figure(figsize=(20, 10))\n",
    "    for i in range(n):\n",
    "        ax = plt.subplot(2, n, i+1)\n",
    "        plt.imshow(x_test[i].reshape(size,size))\n",
    "        plt.gray()\n",
    "        ax.get_xaxis().set_visible(False)\n",
    "        ax.get_yaxis().set_visible(False)\n",
    "\n",
    "        if decoded_imgs is not None:\n",
    "            ax = plt.subplot(2, n, i+ 1 +n)\n",
    "            plt.imshow(decoded_imgs[i].reshape(size,size))\n",
    "            plt.gray()\n",
    "            ax.get_xaxis().set_visible(False)\n",
    "            ax.get_yaxis().set_visible(False)\n",
    "    plt.show()\n",
    "\n",
    "### Create input\n",
    "\n",
    "bs_z=4\n",
    "\n",
    "train_path = \"/home/hoffmann/MA/OIRDS_v1_0/train\"\n",
    "test_path = \"/home/hoffmann/MA/OIRDS_v1_0/test\"\n",
    "\n",
    "size=256\n",
    "\n",
    "train_batches = ImageDataGenerator(rescale=1./255).flow_from_directory(train_path,target_size=(size,size),color_mode='grayscale',batch_size=bs_z, class_mode = 'input',shuffle=False)\n",
    "test_batches = ImageDataGenerator(rescale=1./255).flow_from_directory(test_path,target_size=(size,size),color_mode='grayscale',batch_size=bs_z, class_mode = 'input',shuffle=False)"
   ]
  },
  {
   "cell_type": "code",
   "execution_count": 3,
   "metadata": {},
   "outputs": [
    {
     "name": "stdout",
     "output_type": "stream",
     "text": [
      "Epoch 1/1\n",
      "212/212 [==============================] - 54s 255ms/step - loss: 0.0214 - val_loss: 0.0075\n"
     ]
    },
    {
     "data": {
      "text/plain": [
       "<keras.callbacks.History at 0x7f1e1b000fd0>"
      ]
     },
     "execution_count": 3,
     "metadata": {},
     "output_type": "execute_result"
    }
   ],
   "source": [
    "### pretrain1\n",
    "    \n",
    "input_img = Input(shape=(size, size,1))\n",
    "\n",
    "train1_norm=BatchNormalization(axis=-1, name='t1n')(input_img)\n",
    "train1_c1 = Conv2D(64, (3, 3), activation='relu', padding='same', name='t1c1')(train1_norm)\n",
    "train1_decoded = Conv2DTranspose(1, (3, 3), activation='relu', padding='same', name='t1tc1')(train1_c1)\n",
    "\n",
    "train1_autoencoder = Model(input_img, train1_decoded)\n",
    "train1_autoencoder.compile(optimizer='adadelta', loss='mean_squared_error')\n",
    "\n",
    "train1_autoencoder.fit_generator(train_batches, epochs=1, validation_data=test_batches, verbose=1)"
   ]
  },
  {
   "cell_type": "code",
   "execution_count": 4,
   "metadata": {},
   "outputs": [
    {
     "ename": "AttributeError",
     "evalue": "'DirectoryIterator' object has no attribute 'ndim'",
     "output_type": "error",
     "traceback": [
      "\u001b[0;31m---------------------------------------------------------------------------\u001b[0m",
      "\u001b[0;31mAttributeError\u001b[0m                            Traceback (most recent call last)",
      "\u001b[0;32m<ipython-input-4-d5aa11730593>\u001b[0m in \u001b[0;36m<module>\u001b[0;34m()\u001b[0m\n\u001b[1;32m      4\u001b[0m \u001b[0mcreator_train2\u001b[0m\u001b[0;34m.\u001b[0m\u001b[0mget_layer\u001b[0m\u001b[0;34m(\u001b[0m\u001b[0;34m\"t1c1\"\u001b[0m\u001b[0;34m)\u001b[0m\u001b[0;34m.\u001b[0m\u001b[0mset_weights\u001b[0m\u001b[0;34m(\u001b[0m\u001b[0mtrain1_autoencoder\u001b[0m\u001b[0;34m.\u001b[0m\u001b[0mget_layer\u001b[0m\u001b[0;34m(\u001b[0m\u001b[0;34m't1c1'\u001b[0m\u001b[0;34m)\u001b[0m\u001b[0;34m.\u001b[0m\u001b[0mget_weights\u001b[0m\u001b[0;34m(\u001b[0m\u001b[0;34m)\u001b[0m\u001b[0;34m)\u001b[0m\u001b[0;34m\u001b[0m\u001b[0m\n\u001b[1;32m      5\u001b[0m \u001b[0;34m\u001b[0m\u001b[0m\n\u001b[0;32m----> 6\u001b[0;31m \u001b[0minput_train2\u001b[0m \u001b[0;34m=\u001b[0m \u001b[0mcreator_train2\u001b[0m\u001b[0;34m.\u001b[0m\u001b[0mpredict\u001b[0m\u001b[0;34m(\u001b[0m\u001b[0mtrain_batches\u001b[0m\u001b[0;34m)\u001b[0m\u001b[0;34m\u001b[0m\u001b[0m\n\u001b[0m\u001b[1;32m      7\u001b[0m \u001b[0;31m#print(input_train2.shape)\u001b[0m\u001b[0;34m\u001b[0m\u001b[0;34m\u001b[0m\u001b[0m\n\u001b[1;32m      8\u001b[0m \u001b[0;34m\u001b[0m\u001b[0m\n",
      "\u001b[0;32m~/anaconda3/lib/python3.6/site-packages/keras/engine/training.py\u001b[0m in \u001b[0;36mpredict\u001b[0;34m(self, x, batch_size, verbose, steps)\u001b[0m\n\u001b[1;32m   1815\u001b[0m         x = _standardize_input_data(x, self._feed_input_names,\n\u001b[1;32m   1816\u001b[0m                                     \u001b[0mself\u001b[0m\u001b[0;34m.\u001b[0m\u001b[0m_feed_input_shapes\u001b[0m\u001b[0;34m,\u001b[0m\u001b[0;34m\u001b[0m\u001b[0m\n\u001b[0;32m-> 1817\u001b[0;31m                                     check_batch_axis=False)\n\u001b[0m\u001b[1;32m   1818\u001b[0m         \u001b[0;32mif\u001b[0m \u001b[0mself\u001b[0m\u001b[0;34m.\u001b[0m\u001b[0mstateful\u001b[0m\u001b[0;34m:\u001b[0m\u001b[0;34m\u001b[0m\u001b[0m\n\u001b[1;32m   1819\u001b[0m             \u001b[0;32mif\u001b[0m \u001b[0mx\u001b[0m\u001b[0;34m[\u001b[0m\u001b[0;36m0\u001b[0m\u001b[0;34m]\u001b[0m\u001b[0;34m.\u001b[0m\u001b[0mshape\u001b[0m\u001b[0;34m[\u001b[0m\u001b[0;36m0\u001b[0m\u001b[0;34m]\u001b[0m \u001b[0;34m>\u001b[0m \u001b[0mbatch_size\u001b[0m \u001b[0;32mand\u001b[0m \u001b[0mx\u001b[0m\u001b[0;34m[\u001b[0m\u001b[0;36m0\u001b[0m\u001b[0;34m]\u001b[0m\u001b[0;34m.\u001b[0m\u001b[0mshape\u001b[0m\u001b[0;34m[\u001b[0m\u001b[0;36m0\u001b[0m\u001b[0;34m]\u001b[0m \u001b[0;34m%\u001b[0m \u001b[0mbatch_size\u001b[0m \u001b[0;34m!=\u001b[0m \u001b[0;36m0\u001b[0m\u001b[0;34m:\u001b[0m\u001b[0;34m\u001b[0m\u001b[0m\n",
      "\u001b[0;32m~/anaconda3/lib/python3.6/site-packages/keras/engine/training.py\u001b[0m in \u001b[0;36m_standardize_input_data\u001b[0;34m(data, names, shapes, check_batch_axis, exception_prefix)\u001b[0m\n\u001b[1;32m     74\u001b[0m         \u001b[0mdata\u001b[0m \u001b[0;34m=\u001b[0m \u001b[0mdata\u001b[0m\u001b[0;34m.\u001b[0m\u001b[0mvalues\u001b[0m \u001b[0;32mif\u001b[0m \u001b[0mdata\u001b[0m\u001b[0;34m.\u001b[0m\u001b[0m__class__\u001b[0m\u001b[0;34m.\u001b[0m\u001b[0m__name__\u001b[0m \u001b[0;34m==\u001b[0m \u001b[0;34m'DataFrame'\u001b[0m \u001b[0;32melse\u001b[0m \u001b[0mdata\u001b[0m\u001b[0;34m\u001b[0m\u001b[0m\n\u001b[1;32m     75\u001b[0m         \u001b[0mdata\u001b[0m \u001b[0;34m=\u001b[0m \u001b[0;34m[\u001b[0m\u001b[0mdata\u001b[0m\u001b[0;34m]\u001b[0m\u001b[0;34m\u001b[0m\u001b[0m\n\u001b[0;32m---> 76\u001b[0;31m     \u001b[0mdata\u001b[0m \u001b[0;34m=\u001b[0m \u001b[0;34m[\u001b[0m\u001b[0mnp\u001b[0m\u001b[0;34m.\u001b[0m\u001b[0mexpand_dims\u001b[0m\u001b[0;34m(\u001b[0m\u001b[0mx\u001b[0m\u001b[0;34m,\u001b[0m \u001b[0;36m1\u001b[0m\u001b[0;34m)\u001b[0m \u001b[0;32mif\u001b[0m \u001b[0mx\u001b[0m \u001b[0;32mis\u001b[0m \u001b[0;32mnot\u001b[0m \u001b[0;32mNone\u001b[0m \u001b[0;32mand\u001b[0m \u001b[0mx\u001b[0m\u001b[0;34m.\u001b[0m\u001b[0mndim\u001b[0m \u001b[0;34m==\u001b[0m \u001b[0;36m1\u001b[0m \u001b[0;32melse\u001b[0m \u001b[0mx\u001b[0m \u001b[0;32mfor\u001b[0m \u001b[0mx\u001b[0m \u001b[0;32min\u001b[0m \u001b[0mdata\u001b[0m\u001b[0;34m]\u001b[0m\u001b[0;34m\u001b[0m\u001b[0m\n\u001b[0m\u001b[1;32m     77\u001b[0m \u001b[0;34m\u001b[0m\u001b[0m\n\u001b[1;32m     78\u001b[0m     \u001b[0;32mif\u001b[0m \u001b[0mlen\u001b[0m\u001b[0;34m(\u001b[0m\u001b[0mdata\u001b[0m\u001b[0;34m)\u001b[0m \u001b[0;34m!=\u001b[0m \u001b[0mlen\u001b[0m\u001b[0;34m(\u001b[0m\u001b[0mnames\u001b[0m\u001b[0;34m)\u001b[0m\u001b[0;34m:\u001b[0m\u001b[0;34m\u001b[0m\u001b[0m\n",
      "\u001b[0;32m~/anaconda3/lib/python3.6/site-packages/keras/engine/training.py\u001b[0m in \u001b[0;36m<listcomp>\u001b[0;34m(.0)\u001b[0m\n\u001b[1;32m     74\u001b[0m         \u001b[0mdata\u001b[0m \u001b[0;34m=\u001b[0m \u001b[0mdata\u001b[0m\u001b[0;34m.\u001b[0m\u001b[0mvalues\u001b[0m \u001b[0;32mif\u001b[0m \u001b[0mdata\u001b[0m\u001b[0;34m.\u001b[0m\u001b[0m__class__\u001b[0m\u001b[0;34m.\u001b[0m\u001b[0m__name__\u001b[0m \u001b[0;34m==\u001b[0m \u001b[0;34m'DataFrame'\u001b[0m \u001b[0;32melse\u001b[0m \u001b[0mdata\u001b[0m\u001b[0;34m\u001b[0m\u001b[0m\n\u001b[1;32m     75\u001b[0m         \u001b[0mdata\u001b[0m \u001b[0;34m=\u001b[0m \u001b[0;34m[\u001b[0m\u001b[0mdata\u001b[0m\u001b[0;34m]\u001b[0m\u001b[0;34m\u001b[0m\u001b[0m\n\u001b[0;32m---> 76\u001b[0;31m     \u001b[0mdata\u001b[0m \u001b[0;34m=\u001b[0m \u001b[0;34m[\u001b[0m\u001b[0mnp\u001b[0m\u001b[0;34m.\u001b[0m\u001b[0mexpand_dims\u001b[0m\u001b[0;34m(\u001b[0m\u001b[0mx\u001b[0m\u001b[0;34m,\u001b[0m \u001b[0;36m1\u001b[0m\u001b[0;34m)\u001b[0m \u001b[0;32mif\u001b[0m \u001b[0mx\u001b[0m \u001b[0;32mis\u001b[0m \u001b[0;32mnot\u001b[0m \u001b[0;32mNone\u001b[0m \u001b[0;32mand\u001b[0m \u001b[0mx\u001b[0m\u001b[0;34m.\u001b[0m\u001b[0mndim\u001b[0m \u001b[0;34m==\u001b[0m \u001b[0;36m1\u001b[0m \u001b[0;32melse\u001b[0m \u001b[0mx\u001b[0m \u001b[0;32mfor\u001b[0m \u001b[0mx\u001b[0m \u001b[0;32min\u001b[0m \u001b[0mdata\u001b[0m\u001b[0;34m]\u001b[0m\u001b[0;34m\u001b[0m\u001b[0m\n\u001b[0m\u001b[1;32m     77\u001b[0m \u001b[0;34m\u001b[0m\u001b[0m\n\u001b[1;32m     78\u001b[0m     \u001b[0;32mif\u001b[0m \u001b[0mlen\u001b[0m\u001b[0;34m(\u001b[0m\u001b[0mdata\u001b[0m\u001b[0;34m)\u001b[0m \u001b[0;34m!=\u001b[0m \u001b[0mlen\u001b[0m\u001b[0;34m(\u001b[0m\u001b[0mnames\u001b[0m\u001b[0;34m)\u001b[0m\u001b[0;34m:\u001b[0m\u001b[0;34m\u001b[0m\u001b[0m\n",
      "\u001b[0;31mAttributeError\u001b[0m: 'DirectoryIterator' object has no attribute 'ndim'"
     ]
    }
   ],
   "source": [
    "### pretrain2\n",
    "\n",
    "creator_train2 = Model(input_img, train1_c1)\n",
    "creator_train2.get_layer(\"t1c1\").set_weights(train1_autoencoder.get_layer('t1c1').get_weights())\n",
    "\n",
    "input_train2 = creator_train2.predict_generator(train_batches)\n",
    "print(input_train2.shape)\n",
    "\n",
    "#train2_batches = ImageDataGenerator.flow(creator_train2.predict_generator(train_batches),y=creator_train2.predict_generator(train_batches), batch_size = bs_z, shuffle=False)"
   ]
  },
  {
   "cell_type": "code",
   "execution_count": 3,
   "metadata": {},
   "outputs": [
    {
     "ename": "NameError",
     "evalue": "name 'Input' is not defined",
     "output_type": "error",
     "traceback": [
      "\u001b[0;31m---------------------------------------------------------------------------\u001b[0m",
      "\u001b[0;31mNameError\u001b[0m                                 Traceback (most recent call last)",
      "\u001b[0;32m<ipython-input-3-52d4383a0bf3>\u001b[0m in \u001b[0;36m<module>\u001b[0;34m()\u001b[0m\n\u001b[1;32m      1\u001b[0m \u001b[0;31m### pretrain1\u001b[0m\u001b[0;34m\u001b[0m\u001b[0;34m\u001b[0m\u001b[0m\n\u001b[1;32m      2\u001b[0m \u001b[0;34m\u001b[0m\u001b[0m\n\u001b[0;32m----> 3\u001b[0;31m \u001b[0minput_img\u001b[0m \u001b[0;34m=\u001b[0m \u001b[0mInput\u001b[0m\u001b[0;34m(\u001b[0m\u001b[0mshape\u001b[0m\u001b[0;34m=\u001b[0m\u001b[0;34m(\u001b[0m\u001b[0msize\u001b[0m\u001b[0;34m,\u001b[0m \u001b[0msize\u001b[0m\u001b[0;34m,\u001b[0m\u001b[0;36m1\u001b[0m\u001b[0;34m)\u001b[0m\u001b[0;34m)\u001b[0m\u001b[0;34m\u001b[0m\u001b[0m\n\u001b[0m\u001b[1;32m      4\u001b[0m \u001b[0;34m\u001b[0m\u001b[0m\n\u001b[1;32m      5\u001b[0m \u001b[0mtrain1_norm\u001b[0m\u001b[0;34m=\u001b[0m\u001b[0mBatchNormalization\u001b[0m\u001b[0;34m(\u001b[0m\u001b[0maxis\u001b[0m\u001b[0;34m=\u001b[0m\u001b[0;34m-\u001b[0m\u001b[0;36m1\u001b[0m\u001b[0;34m,\u001b[0m \u001b[0mname\u001b[0m\u001b[0;34m=\u001b[0m\u001b[0;34m't1n'\u001b[0m\u001b[0;34m)\u001b[0m\u001b[0;34m(\u001b[0m\u001b[0minput_img\u001b[0m\u001b[0;34m)\u001b[0m\u001b[0;34m\u001b[0m\u001b[0m\n",
      "\u001b[0;31mNameError\u001b[0m: name 'Input' is not defined"
     ]
    }
   ],
   "source": [
    "train2_batches = ImageDataGenerator.flow(input_train2,y=input_train2, batch_size = bs_z, shuffle=False)\n",
    "\n",
    "#---\n",
    "\n",
    "input_img_train2 = Input(shape=(size, size, 64))\n",
    "train2_p1 = MaxPooling2D(pool_size=(2, 2), name='t2p1')(input_img_train2)\n",
    "train2_c1 = Conv2D(32, (3, 3), activation='relu', padding='same', name='t2c1')(train2_p1)\n",
    "train2_tc1 = Conv2DTranspose(64, (3, 3), activation='relu', padding='same', name='t2tc1')(train2_c1)\n",
    "train2_decoded = UpSampling2D(size=(2, 2), name='t3u1')(train2_tc1)\n",
    "\n",
    "train2_autoencoder = Model(input_img_train2, train2_decoded)\n",
    "train2_autoencoder.compile(optimizer='adadelta', loss='mean_squared_error')\n",
    "\n",
    "train2_autoencoder.fit_generator(train_batches, epochs=1, verbose=1)"
   ]
  },
  {
   "cell_type": "code",
   "execution_count": null,
   "metadata": {},
   "outputs": [
    {
     "name": "stdout",
     "output_type": "stream",
     "text": [
      "Epoch 1/1\n",
      "212/212 [==============================] - 54s 253ms/step - loss: 0.0198 - val_loss: 0.0135\n"
     ]
    }
   ],
   "source": [
    "### pretrain3\n",
    "\n",
    "creator_train3 = Model(input_img_train2, train2_c1)\n",
    "creator_train3.get_layer(\"t2c1\").set_weights(train2_autoencoder.get_layer('t2c1').get_weights())\n",
    "\n",
    "input_train3 = creator_train3.predict(input_train2)\n",
    "\n",
    "print(input_train3.shape)\n",
    "\n",
    "#---\n",
    "\n",
    "input_img_train3 = Input(shape=(size/2, size/2, 32))\n",
    "train3_p1 = MaxPooling2D(pool_size=(2, 2), name='t3p1')(input_img_train3)\n",
    "train3_c1 = Conv2D(16, (3, 3), activation='relu', padding='same', name='t3c1')(train3_p1)\n",
    "train3_tc1 = Conv2DTranspose(32, (3, 3), activation='relu', padding='same', name='t3tc1')(train3_c1)\n",
    "train3_decoded = UpSampling2D(size=(2, 2), name='t3u1')(train3_tc1)\n",
    "\n",
    "train3_autoencoder = Model(input_img_train3, train3_decoded)\n",
    "train3_autoencoder.compile(optimizer='adadelta', loss='mean_squared_error')\n",
    "\n",
    "train3_autoencoder.fit(input_train3, input_train3, epochs=1, batch_size=bs_z, verbose=1)\n",
    "\n",
    "### pretrain4\n",
    "\n",
    "creator_train4 = Model(input_img_train3, train3_c1)\n",
    "creator_train4.get_layer(\"t3c1\").set_weights(train2_autoencoder.get_layer('t3c1').get_weights())\n",
    "\n",
    "input_train4 = creator_train4.predict(input_train3)\n",
    "\n",
    "print(input_train4.shape)\n",
    "\n",
    "#---\n",
    "\n",
    "input_img_train4 = Input(shape=(size/4, size/4, 16))\n",
    "train4_p1 = MaxPooling2D(pool_size=(2, 2), name='t4p1')(input_img_train4)\n",
    "train4_c1 = Conv2D(8, (3, 3), activation='relu', padding='same', name='t4c1')(train4_p1)\n",
    "train4_tc1 = Conv2DTranspose(16, (3, 3), activation='relu', padding='same', name='t4tc1')(train4_c1)\n",
    "train4_decoded = UpSampling2D(size=(2, 2), name='t4u1')(train4_tc1)\n",
    "\n",
    "train4_autoencoder = Model(input_img_train4, train4_decoded)\n",
    "train4_autoencoder.compile(optimizer='adadelta', loss='mean_squared_error')\n",
    "\n",
    "train4_autoencoder.fit(input_train4, input_train4, epochs=1, batch_size=bs_z, verbose=1)"
   ]
  },
  {
   "cell_type": "code",
   "execution_count": null,
   "metadata": {},
   "outputs": [],
   "source": [
    "### unroll\n",
    "\n",
    "input_img = Input(shape=(size, size,1))\n",
    "\n",
    "norm=BatchNormalization(axis=-1, name='n', weights=train1_autoencoder.get_layer(\"t1n\").get_weights())(input_img)\n",
    "c1 = Conv2D(64, (3, 3), activation='relu', padding='same', name='c1', weights=train1_autoencoder.get_layer(\"t1c1\").get_weights())(norm)\n",
    "p1 = MaxPooling2D(pool_size=(2, 2), name='p1')(c1)\n",
    "c2 = Conv2D(32, (3, 3), activation='relu', padding='same', name='c2', weights=train2_autoencoder.get_layer(\"t2c1\").get_weights())(p1)\n",
    "p2 = MaxPooling2D(pool_size=(2, 2), name='p2')(c2)\n",
    "c3 = Conv2D(16, (3, 3), activation='relu', padding='same', name='c3', weights=train3_autoencoder.get_layer(\"t3c1\").get_weights())(p2)\n",
    "p3 = MaxPooling2D(pool_size=(2, 2), name='p3')(c3)\n",
    "encoded = Conv2D(8, (3, 3), activation='relu', padding='same', name='c4', weights=train4_autoencoder.get_layer(\"t4c1\").get_weights())(p3)\n",
    "tc4 = Conv2DTranspose(16, (3, 3), activation='relu', padding='same', name='tc4', weights=train4_autoencoder.get_layer(\"t4tc1\").get_weights())(encoded)\n",
    "u3 = UpSampling2D(size=(2, 2), name='u2')(tc4)\n",
    "tc3 = Conv2DTranspose(32, (3, 3), activation='relu', padding='same', name='tc3', weights=train3_autoencoder.get_layer(\"t3tc1\").get_weights())(u3)\n",
    "u2 = UpSampling2D(size=(2, 2), name='u2')(tc3)\n",
    "tc2 = Conv2DTranspose(64, (3, 3), activation='relu', padding='same', name='tc2', weights=train2_autoencoder.get_layer(\"t2tc1\").get_weights())(u2)\n",
    "u1 = UpSampling2D(size=(2, 2), name='u1')(tc2)\n",
    "decoded = Conv2DTranspose(1, (3, 3), activation='relu', padding='same', name='tc1', weights=train1_autoencoder.get_layer(\"t1tc1\").get_weights())(u1)\n",
    "\n",
    "autoencoder = Model(input_img, decoded)\n",
    "autoencoder.compile(optimizer='adadelta', loss='mean_squared_error')\n",
    "\n",
    "### finetune\n",
    "\n",
    "autoencoder.fit_generator(train_batches, epochs=1, validation_data=test_batches, verbose=1)"
   ]
  },
  {
   "cell_type": "code",
   "execution_count": null,
   "metadata": {},
   "outputs": [],
   "source": [
    "autoencoder.save('CAE_overhead_1ep_3pool_8f.h5')"
   ]
  },
  {
   "cell_type": "code",
   "execution_count": null,
   "metadata": {},
   "outputs": [],
   "source": [
    "def getMaxGrads(input_set, model, layer_name, nof):\n",
    "    \n",
    "    layer_dict = dict([(layer.name, layer) for layer in model.layers[1:]])\n",
    "    \n",
    "    out = np.zeros((len(input_set),len(input_set[0]),len(input_set[0][0])))\n",
    "\n",
    "    for i in range(nof):\n",
    "        filter_index = i  # can be any integer from 0 to 511, as there are 512 filters in that layer\n",
    "\n",
    "        layer_output = layer_dict[layer_name].output\n",
    "        loss = K.mean(layer_output[:, :, :, filter_index])\n",
    "\n",
    "        # compute the gradient of the input picture wrt this loss\n",
    "        grads = K.gradients(loss, input_img)[0]\n",
    "\n",
    "        #normalization trick: we normalize the gradient\n",
    "        grads /= (K.sqrt(K.mean(K.square(grads))) + 1e-5)  ### normalize? ... later\n",
    "\n",
    "        # this function returns the loss and grads given the input picture\n",
    "        iterate = K.function([input_img], [loss, grads])\n",
    "\n",
    "        it = iterate([input_set])\n",
    "        \n",
    "        len1=len(out)\n",
    "        len2=len(out[0])\n",
    "        len3=len(out[0][0])\n",
    "        \n",
    "        for j in range(len1):\n",
    "            for k in range(len2):\n",
    "                for l in range(len3):\n",
    "                    if abs(it[1][j][k][l]) > out[j][k][l]:   #abs()?\n",
    "                        out[j][k][l]=abs(it[1][j][k][l])\n",
    "                        \n",
    "        return out"
   ]
  },
  {
   "cell_type": "code",
   "execution_count": null,
   "metadata": {
    "scrolled": false
   },
   "outputs": [],
   "source": [
    "out = getMaxGrads(test_batches[0][0], autoencoder, 'c3', 8)\n",
    "\n",
    "a=len(test_batches[0][0])\n",
    "b=len(test_batches[0][0][0])\n",
    "c=len(test_batches[0][0][0][0])\n",
    "\n",
    "it_temp = np.zeros((a,b,c))\n",
    "\n",
    "    for i in range(a):\n",
    "        q = np.percentile(out[i],98)\n",
    "        for j in range(b):\n",
    "            for k in range(c):\n",
    "                if(out[i][j][k]>q):\n",
    "                    it_temp[i][j][k]=out[i][j][k]"
   ]
  },
  {
   "cell_type": "code",
   "execution_count": null,
   "metadata": {},
   "outputs": [],
   "source": [
    "writegrads = np.zeros((len(it_temp),len(it_temp[0])*len(it_temp[0])))\n",
    "\n",
    "for i in range(len(it_temp)):\n",
    "    temp = []\n",
    "    for j in it_temp[i]:\n",
    "        temp.extend(j)\n",
    "    writegrads[i] = temp\n",
    "\n",
    "np.savetxt('CAE_overhead_1ep_3pool_8f',writegrads)"
   ]
  },
  {
   "cell_type": "code",
   "execution_count": null,
   "metadata": {
    "scrolled": false
   },
   "outputs": [],
   "source": [
    "### plot\n",
    "\n",
    "decoded_imgs = autoencoder.predict_generator(test_batches)\n",
    "show_imgs(test_batches[0][0],decoded_imgs)\n",
    "\n",
    "print(autoencoder.summary())\n",
    "\n",
    "autoencoder_show_hidden = Model(input_img, encoded)\n",
    "encoded_imgs = autoencoder_show_hidden.predict_generator(test_batches)\n",
    "\n",
    "def show_hidden(x_test, encoded_imgs, n=10):\n",
    "    \n",
    "    en0=np.zeros((encoded_imgs.shape[0],encoded_imgs.shape[1],encoded_imgs.shape[2]))\n",
    "    en1=np.zeros((encoded_imgs.shape[0],encoded_imgs.shape[1],encoded_imgs.shape[2]))\n",
    "    en2=np.zeros((encoded_imgs.shape[0],encoded_imgs.shape[1],encoded_imgs.shape[2]))\n",
    "    en3=np.zeros((encoded_imgs.shape[0],encoded_imgs.shape[1],encoded_imgs.shape[2]))\n",
    "\n",
    "    for i in range(encoded_imgs.shape[0]):\n",
    "        for j in range(encoded_imgs.shape[1]):\n",
    "            for k in range(encoded_imgs.shape[2]):\n",
    "                en0[i][j][k]=encoded_imgs[i][j][k][0]\n",
    "                en1[i][j][k]=encoded_imgs[i][j][k][1]\n",
    "                en2[i][j][k]=encoded_imgs[i][j][k][2]\n",
    "                en3[i][j][k]=encoded_imgs[i][j][k][3]\n",
    "    \n",
    "    plt.figure(figsize=(20, 4))\n",
    "    for i in range(n):\n",
    "        ax = plt.subplot(5, n, i+1)\n",
    "        plt.imshow(x_test[i].reshape(size,size))\n",
    "        plt.gray()\n",
    "        ax.get_xaxis().set_visible(False)\n",
    "        ax.get_yaxis().set_visible(False)\n",
    "\n",
    "        if decoded_imgs is not None:\n",
    "            ax = plt.subplot(5, n, i+ 1 +n)\n",
    "            plt.imshow(en0[i].reshape(int(size/4),int(size/8)))\n",
    "            plt.gray()\n",
    "            ax.get_xaxis().set_visible(False)\n",
    "            ax.get_yaxis().set_visible(False)\n",
    "            \n",
    "            ax = plt.subplot(5, n, i+ 1 +2*n)\n",
    "            plt.imshow(en1[i].reshape(int(size/4),int(size/8)))\n",
    "            plt.gray()\n",
    "            ax.get_xaxis().set_visible(False)\n",
    "            ax.get_yaxis().set_visible(False)\n",
    "            \n",
    "            ax = plt.subplot(5, n, i+ 1 +3*n)\n",
    "            plt.imshow(en2[i].reshape(int(size/4),int(size/8)))\n",
    "            plt.gray()\n",
    "            ax.get_xaxis().set_visible(False)\n",
    "            ax.get_yaxis().set_visible(False)\n",
    "            \n",
    "            ax = plt.subplot(5, n, i+ 1 +4*n)\n",
    "            plt.imshow(en3[i].reshape(int(size/4),int(size/8)))\n",
    "            plt.gray()\n",
    "            ax.get_xaxis().set_visible(False)\n",
    "            ax.get_yaxis().set_visible(False)\n",
    "    plt.show()\n",
    "\n",
    "show_hidden(test_batches[0][0], encoded_imgs)\n",
    "\n",
    "#print grads\n",
    "\n",
    "show_imgs(test_batches[0][0],out)\n",
    "\n",
    "show_imgs(test_batches[0][0],it_temp)\n"
   ]
  },
  {
   "cell_type": "code",
   "execution_count": null,
   "metadata": {},
   "outputs": [],
   "source": []
  }
 ],
 "metadata": {
  "kernelspec": {
   "display_name": "Python 3",
   "language": "python",
   "name": "python3"
  },
  "language_info": {
   "codemirror_mode": {
    "name": "ipython",
    "version": 3
   },
   "file_extension": ".py",
   "mimetype": "text/x-python",
   "name": "python",
   "nbconvert_exporter": "python",
   "pygments_lexer": "ipython3",
   "version": "3.6.5"
  }
 },
 "nbformat": 4,
 "nbformat_minor": 2
}
