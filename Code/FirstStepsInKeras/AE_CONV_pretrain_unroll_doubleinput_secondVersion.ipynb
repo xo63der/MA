{
 "cells": [
  {
   "cell_type": "code",
   "execution_count": 28,
   "metadata": {},
   "outputs": [
    {
     "name": "stdout",
     "output_type": "stream",
     "text": [
      "(60000, 28, 28, 1)\n",
      "Train on 60000 samples, validate on 10000 samples\n",
      "Epoch 1/1\n",
      "60000/60000 [==============================] - 154s 3ms/step - loss: 0.0251 - val_loss: -0.0015\n",
      "Train on 60000 samples, validate on 10000 samples\n",
      "Epoch 1/1\n",
      "60000/60000 [==============================] - 148s 2ms/step - loss: 0.0193 - val_loss: -0.0032\n",
      "i2c1_4/kernel:0 (3, 3, 1, 16)\n",
      "i2c1_4/bias:0 (16,)\n",
      "i1c1_8/kernel:0 (3, 3, 1, 16)\n",
      "i1c1_8/bias:0 (16,)\n",
      "i2c2_4/kernel:0 (3, 3, 16, 8)\n",
      "i2c2_4/bias:0 (8,)\n",
      "i1c2_4/kernel:0 (3, 3, 16, 8)\n",
      "i1c2_4/bias:0 (8,)\n",
      "encode_4/kernel:0 (3, 3, 8, 4)\n",
      "encode_4/bias:0 (4,)\n",
      "i1c4_4/kernel:0 (3, 3, 4, 8)\n",
      "i1c4_4/bias:0 (8,)\n",
      "i1c5_4/kernel:0 (3, 3, 8, 16)\n",
      "i1c5_4/bias:0 (16,)\n",
      "i1d1_4/kernel:0 (5, 5, 16, 1)\n",
      "i1d1_4/bias:0 (1,)\n",
      "i2d1_4/kernel:0 (5, 5, 16, 1)\n",
      "i2d1_4/bias:0 (1,)\n"
     ]
    }
   ],
   "source": [
    "# %matplotlib inline\n",
    "# %config InlineBackend.figure_format = 'retina'\n",
    "\n",
    "# convolutional autoencoder in keras\n",
    "\n",
    "import os\n",
    "#os.environ[\"KERAS_BACKEND\"] = \"tensorflow\"\n",
    "\n",
    "from __future__ import print_function\n",
    "from keras.models import Model\n",
    "from keras.layers import Dense, Input, Conv2D, MaxPooling2D, UpSampling2D\n",
    "from keras.datasets import mnist\n",
    "from keras.regularizers import l1\n",
    "from keras.optimizers import Adam\n",
    "from keras import backend as K\n",
    "\n",
    "import matplotlib.pyplot as plt\n",
    "# %matplotlib inline\n",
    "\n",
    "from keras.datasets import mnist \n",
    "\n",
    "import matplotlib.pyplot as plt\n",
    "import pandas as pd\n",
    "import numpy as np\n",
    "import seaborn as sns\n",
    "import warnings\n",
    "\n",
    "warnings.filterwarnings('ignore')\n",
    "\n",
    "def own_kullback_leibler_divergence(y_true, y_pred):\n",
    "    y_true = K.clip(y_true, K.epsilon(), 1)\n",
    "    y_pred = K.clip(y_pred, K.epsilon(), 1)\n",
    "    return K.sum(y_true * K.log(y_true / y_pred), axis=-1)\n",
    "\n",
    "def own_mean_squared_error(y_true, y_pred):\n",
    "    return K.mean(K.square(y_pred - y_true), axis=-1)\n",
    "\n",
    "def own_loss(y_true, y_pred):\n",
    "    return 1.0*own_kullback_leibler_divergence(y_true, y_pred)+own_mean_squared_error(y_true, y_pred)\n",
    "\n",
    "# utility function for showing images\n",
    "def show_imgs(x_test, decoded_imgs, n=10):\n",
    "    plt.figure(figsize=(20, 4))\n",
    "    for i in range(n):\n",
    "        ax = plt.subplot(2, n, i+1)\n",
    "        plt.imshow(x_test[i].reshape(28,28))\n",
    "        plt.gray()\n",
    "        ax.get_xaxis().set_visible(False)\n",
    "        ax.get_yaxis().set_visible(False)\n",
    "\n",
    "        if decoded_imgs is not None:\n",
    "            ax = plt.subplot(2, n, i+ 1 +n)\n",
    "            plt.imshow(decoded_imgs[i].reshape(28,28))\n",
    "            plt.gray()\n",
    "            ax.get_xaxis().set_visible(False)\n",
    "            ax.get_yaxis().set_visible(False)\n",
    "    plt.show()\n",
    "\n",
    "\n",
    "input_img = Input(shape=(28, 28,1)) # 1ch=black&white, 28 x 28\n",
    "\n",
    "(x_train, _), (x_test, _) = mnist.load_data()\n",
    "\n",
    "x_train = x_train.astype('float32')/255. # 0-1.に変換\n",
    "x_test = x_test.astype('float32')/255.\n",
    "\n",
    "x_train = np.reshape(x_train, (len(x_train), 28, 28, 1))\n",
    "x_test = np.reshape(x_test, (len(x_test), 28, 28, 1))\n",
    "\n",
    "noise_factor = 0.5\n",
    "x_train_noisy = x_train + noise_factor * np.random.normal(loc=0.0, scale=1.0, size=x_train.shape)\n",
    "x_test_noisy = x_test + noise_factor * np.random.normal(loc=0.0, scale=1.0, size=x_test.shape)\n",
    "\n",
    "x_train_noisy = np.clip(x_train_noisy, 0., 1.)\n",
    "x_test_noisy = np.clip(x_test_noisy, 0., 1.)\n",
    "\n",
    "print(x_train.shape)\n",
    "\n",
    "### pretrain\n",
    "\n",
    "train1_conv1 = Conv2D(16, (3, 3), activation='relu', padding='same', name='t1c1')(input_img) #nb_filter, nb_row, nb_col\n",
    "\n",
    "train1_decoded = Conv2D(1, (5, 5), activation='sigmoid', padding='same', name='t1d1')(train1_conv1)\n",
    "\n",
    "input1_train1_autoencoder = Model(input_img, train1_decoded)\n",
    "input1_train1_autoencoder.compile(optimizer='adadelta', loss=own_loss)\n",
    "\n",
    "input2_train1_autoencoder = Model(input_img, train1_decoded)\n",
    "input2_train1_autoencoder.compile(optimizer='adadelta', loss=own_loss)\n",
    "\n",
    "input1_train1_autoencoder.fit(x_train_noisy, x_train, epochs=1, batch_size=20,\n",
    "               shuffle=True, validation_data=(x_test, x_test), verbose=1)\n",
    "\n",
    "input2_train1_autoencoder.fit(x_train_noisy, x_train, epochs=1, batch_size=20,\n",
    "               shuffle=True, validation_data=(x_test, x_test), verbose=1)"
   ]
  },
  {
   "cell_type": "code",
   "execution_count": 29,
   "metadata": {},
   "outputs": [
    {
     "name": "stdout",
     "output_type": "stream",
     "text": [
      "_________________________________________________________________\n",
      "Layer (type)                 Output Shape              Param #   \n",
      "=================================================================\n",
      "input_36 (InputLayer)        (None, 28, 28, 1)         0         \n",
      "_________________________________________________________________\n",
      "t1c1 (Conv2D)                (None, 28, 28, 16)        160       \n",
      "_________________________________________________________________\n",
      "t1d1 (Conv2D)                (None, 28, 28, 1)         401       \n",
      "=================================================================\n",
      "Total params: 561\n",
      "Trainable params: 561\n",
      "Non-trainable params: 0\n",
      "_________________________________________________________________\n",
      "_________________________________________________________________\n",
      "Layer (type)                 Output Shape              Param #   \n",
      "=================================================================\n",
      "input_36 (InputLayer)        (None, 28, 28, 1)         0         \n",
      "_________________________________________________________________\n",
      "t1c1 (Conv2D)                (None, 28, 28, 16)        160       \n",
      "_________________________________________________________________\n",
      "t1d1 (Conv2D)                (None, 28, 28, 1)         401       \n",
      "=================================================================\n",
      "Total params: 561\n",
      "Trainable params: 561\n",
      "Non-trainable params: 0\n",
      "_________________________________________________________________\n"
     ]
    }
   ],
   "source": [
    "input1_train1_autoencoder.summary()\n",
    "input2_train1_autoencoder.summary()"
   ]
  },
  {
   "cell_type": "code",
   "execution_count": 30,
   "metadata": {},
   "outputs": [
    {
     "name": "stdout",
     "output_type": "stream",
     "text": [
      "(60000, 28, 28, 16)\n",
      "(60000, 28, 28, 16)\n"
     ]
    }
   ],
   "source": [
    "input1_creator_train2 = Model(input_img, train1_conv1)\n",
    "for i in range(2):\n",
    "    input1_creator_train2.layers[i].set_weights(train1_autoencoder.layers[i].get_weights())\n",
    "    \n",
    "input2_creator_train2 = Model(input_img, train1_conv1)\n",
    "for i in range(2):\n",
    "    input2_creator_train2.layers[i].set_weights(train1_autoencoder.layers[i].get_weights())\n",
    "\n",
    "input1_train2 = input1_creator_train2.predict(x_train_noisy)\n",
    "input2_train2 = input2_creator_train2.predict(x_train_noisy)\n",
    "\n",
    "print(input1_train2.shape)\n",
    "print(input2_train2.shape)"
   ]
  },
  {
   "cell_type": "code",
   "execution_count": 48,
   "metadata": {},
   "outputs": [
    {
     "name": "stdout",
     "output_type": "stream",
     "text": [
      "Epoch 1/1\n",
      "60000/60000 [==============================] - 113s 2ms/step - loss: -1.0183\n",
      "Epoch 1/1\n",
      "60000/60000 [==============================] - 117s 2ms/step - loss: -1.0718\n"
     ]
    },
    {
     "data": {
      "text/plain": [
       "<keras.callbacks.History at 0x28765908>"
      ]
     },
     "execution_count": 48,
     "metadata": {},
     "output_type": "execute_result"
    }
   ],
   "source": [
    "input_img_train2 = Input(shape=(28, 28,16))\n",
    "\n",
    "train2_pool1 = MaxPooling2D(pool_size=(2, 2), name='t2p1')(input_img_train2)\n",
    "train2_conv1 = Conv2D(8, (3, 3), activation='relu', padding='same', name='t2c1')(train2_pool1) #nb_filter, nb_row, nb_col\n",
    "\n",
    "#---\n",
    "\n",
    "train2_pool2 = UpSampling2D(size=(2, 2), name='t2p2')(train2_conv1)\n",
    "train2_decoded = Conv2D(16, (3, 3), activation='relu', padding='same', name='t2d1')(train2_pool2)\n",
    "\n",
    "input1_train2_autoencoder = Model(input_img_train2, train2_decoded)\n",
    "input1_train2_autoencoder.compile(optimizer='adadelta', loss=own_loss)\n",
    "\n",
    "input2_train2_autoencoder = Model(input_img_train2, train2_decoded)\n",
    "input2_train2_autoencoder.compile(optimizer='adadelta', loss=own_loss)\n",
    "\n",
    "input1_train2_autoencoder.fit(input1_train2, input1_train2, epochs=1, batch_size=20, verbose=1)\n",
    "input2_train2_autoencoder.fit(input2_train2, input2_train2, epochs=1, batch_size=20, verbose=1)"
   ]
  },
  {
   "cell_type": "code",
   "execution_count": 32,
   "metadata": {},
   "outputs": [
    {
     "name": "stdout",
     "output_type": "stream",
     "text": [
      "_________________________________________________________________\n",
      "Layer (type)                 Output Shape              Param #   \n",
      "=================================================================\n",
      "input_37 (InputLayer)        (None, 28, 28, 16)        0         \n",
      "_________________________________________________________________\n",
      "t2p1 (MaxPooling2D)          (None, 14, 14, 16)        0         \n",
      "_________________________________________________________________\n",
      "t2c1 (Conv2D)                (None, 14, 14, 8)         1160      \n",
      "_________________________________________________________________\n",
      "t2p2 (UpSampling2D)          (None, 28, 28, 8)         0         \n",
      "_________________________________________________________________\n",
      "t2d1 (Conv2D)                (None, 28, 28, 16)        1168      \n",
      "=================================================================\n",
      "Total params: 2,328\n",
      "Trainable params: 2,328\n",
      "Non-trainable params: 0\n",
      "_________________________________________________________________\n",
      "_________________________________________________________________\n",
      "Layer (type)                 Output Shape              Param #   \n",
      "=================================================================\n",
      "input_37 (InputLayer)        (None, 28, 28, 16)        0         \n",
      "_________________________________________________________________\n",
      "t2p1 (MaxPooling2D)          (None, 14, 14, 16)        0         \n",
      "_________________________________________________________________\n",
      "t2c1 (Conv2D)                (None, 14, 14, 8)         1160      \n",
      "_________________________________________________________________\n",
      "t2p2 (UpSampling2D)          (None, 28, 28, 8)         0         \n",
      "_________________________________________________________________\n",
      "t2d1 (Conv2D)                (None, 28, 28, 16)        1168      \n",
      "=================================================================\n",
      "Total params: 2,328\n",
      "Trainable params: 2,328\n",
      "Non-trainable params: 0\n",
      "_________________________________________________________________\n"
     ]
    }
   ],
   "source": [
    "input1_train2_autoencoder.summary()\n",
    "input2_train2_autoencoder.summary()"
   ]
  },
  {
   "cell_type": "code",
   "execution_count": 35,
   "metadata": {},
   "outputs": [
    {
     "name": "stdout",
     "output_type": "stream",
     "text": [
      "(60000, 14, 14, 8)\n",
      "(60000, 14, 14, 8)\n"
     ]
    }
   ],
   "source": [
    "input1_creator_train3 = Model(input_img_train2, train2_conv1)\n",
    "for i in range(3):\n",
    "    input1_creator_train3.layers[i].set_weights(input1_train2_autoencoder.layers[i].get_weights())\n",
    "\n",
    "input1_train3 = input1_creator_train3.predict(input1_creator_train2.predict(x_train_noisy))\n",
    "\n",
    "print(input1_train3.shape)\n",
    "\n",
    "input2_creator_train3 = Model(input_img_train2, train2_conv1)\n",
    "for i in range(3):\n",
    "    input2_creator_train3.layers[i].set_weights(input1_train2_autoencoder.layers[i].get_weights())\n",
    "\n",
    "input2_train3 = input2_creator_train3.predict(input2_creator_train2.predict(x_train_noisy))\n",
    "\n",
    "print(input2_train3.shape)"
   ]
  },
  {
   "cell_type": "code",
   "execution_count": 42,
   "metadata": {},
   "outputs": [
    {
     "name": "stdout",
     "output_type": "stream",
     "text": [
      "Epoch 1/1\n",
      "60000/60000 [==============================] - 36s 597us/step - loss: -3.0916 - t3i1c2_loss: -1.5640 - t3i2c2_loss: -1.5276\n"
     ]
    },
    {
     "data": {
      "text/plain": [
       "<keras.callbacks.History at 0xf4aa7f0>"
      ]
     },
     "execution_count": 42,
     "metadata": {},
     "output_type": "execute_result"
    }
   ],
   "source": [
    "input1_img_train3 = Input(shape=(14, 14,8))\n",
    "input2_img_train3 = Input(shape=(14, 14,8))\n",
    "\n",
    "from keras.layers import average\n",
    "\n",
    "combine = average([input1_img_train3,input2_img_train3], name='t3combine')\n",
    "train3_pool1 = MaxPooling2D(pool_size=(2, 2), name = 't3combinep1')(combine)\n",
    "train3_conv1 = Conv2D(4, (3, 3), activation='relu', padding='same', name = 't3combinec1')(train3_pool1) #nb_filter, nb_row, nb_col\n",
    "\n",
    "#---\n",
    "\n",
    "train3_pool2 = UpSampling2D(size=(2, 2), name = 't3combinep2')(train3_conv1)\n",
    "\n",
    "input1_train3_decoded = Conv2D(8, (3, 3), activation='relu', padding='same', name = 't3i1c2')(train3_pool2)\n",
    "input2_train3_decoded = Conv2D(8, (3, 3), activation='relu', padding='same', name = 't3i2c2')(train3_pool2)\n",
    "\n",
    "train3_autoencoder = Model(inputs=[input1_img_train3,input2_img_train3], outputs=[input1_train3_decoded,input2_train3_decoded])\n",
    "train3_autoencoder.compile(optimizer='adadelta', loss=[own_loss,own_loss], loss_weights=[1.0,1.0])\n",
    "\n",
    "train3_autoencoder.fit([input1_train3, input2_train3], [input1_train3, input2_train3], epochs=1, batch_size=20, verbose=1)"
   ]
  },
  {
   "cell_type": "code",
   "execution_count": 37,
   "metadata": {},
   "outputs": [
    {
     "name": "stdout",
     "output_type": "stream",
     "text": [
      "__________________________________________________________________________________________________\n",
      "Layer (type)                    Output Shape         Param #     Connected to                     \n",
      "==================================================================================================\n",
      "input_40 (InputLayer)           (None, 14, 14, 8)    0                                            \n",
      "__________________________________________________________________________________________________\n",
      "input_41 (InputLayer)           (None, 14, 14, 8)    0                                            \n",
      "__________________________________________________________________________________________________\n",
      "t3combine (Average)             (None, 14, 14, 8)    0           input_40[0][0]                   \n",
      "                                                                 input_41[0][0]                   \n",
      "__________________________________________________________________________________________________\n",
      "t3combinep1 (MaxPooling2D)      (None, 7, 7, 8)      0           t3combine[0][0]                  \n",
      "__________________________________________________________________________________________________\n",
      "t3combinec1 (Conv2D)            (None, 7, 7, 4)      292         t3combinep1[0][0]                \n",
      "__________________________________________________________________________________________________\n",
      "t3combinep2 (UpSampling2D)      (None, 14, 14, 4)    0           t3combinec1[0][0]                \n",
      "__________________________________________________________________________________________________\n",
      "t3i1p3 (Conv2D)                 (None, 14, 14, 8)    296         t3combinep2[0][0]                \n",
      "__________________________________________________________________________________________________\n",
      "t3i2p3 (Conv2D)                 (None, 14, 14, 8)    296         t3combinep2[0][0]                \n",
      "==================================================================================================\n",
      "Total params: 884\n",
      "Trainable params: 884\n",
      "Non-trainable params: 0\n",
      "__________________________________________________________________________________________________\n"
     ]
    }
   ],
   "source": [
    "train3_autoencoder.summary()"
   ]
  },
  {
   "cell_type": "code",
   "execution_count": 53,
   "metadata": {},
   "outputs": [
    {
     "name": "stdout",
     "output_type": "stream",
     "text": [
      "i2c1_7/kernel:0 (3, 3, 1, 16)\n",
      "i2c1_7/bias:0 (16,)\n",
      "i1c1_11/kernel:0 (3, 3, 1, 16)\n",
      "i1c1_11/bias:0 (16,)\n",
      "i2c2_7/kernel:0 (3, 3, 16, 8)\n",
      "i2c2_7/bias:0 (8,)\n",
      "i1c2_7/kernel:0 (3, 3, 16, 8)\n",
      "i1c2_7/bias:0 (8,)\n",
      "encode_7/kernel:0 (3, 3, 8, 4)\n",
      "encode_7/bias:0 (4,)\n",
      "i1c4_7/kernel:0 (3, 3, 4, 8)\n",
      "i1c4_7/bias:0 (8,)\n",
      "i2c4_7/kernel:0 (3, 3, 4, 8)\n",
      "i2c4_7/bias:0 (8,)\n",
      "i1c5_7/kernel:0 (3, 3, 8, 16)\n",
      "i1c5_7/bias:0 (16,)\n",
      "i2c5_7/kernel:0 (3, 3, 8, 16)\n",
      "i2c5_7/bias:0 (16,)\n",
      "i1d1_7/kernel:0 (5, 5, 16, 1)\n",
      "i1d1_7/bias:0 (1,)\n",
      "i2d1_7/kernel:0 (5, 5, 16, 1)\n",
      "i2d1_7/bias:0 (1,)\n"
     ]
    }
   ],
   "source": [
    "### unroll\n",
    "\n",
    "input1_img = Input(shape=(28, 28,1)) # 1ch=black&white, 28 x 28\n",
    "input2_img = Input(shape=(28, 28,1)) # 1ch=black&white, 28 x 28\n",
    "\n",
    "input1_conv1 = Conv2D(16, (3, 3), activation='relu', padding='same', name='i1c1')(input1_img) #nb_filter, nb_row, nb_col\n",
    "\n",
    "input1_pool1 = MaxPooling2D(pool_size=(2, 2), name='i1p1')(input1_conv1)\n",
    "input1_conv2 = Conv2D(8, (3, 3), activation='relu', padding='same', name='i1c2')(input1_pool1)\n",
    "\n",
    "input2_conv1 = Conv2D(16, (3, 3), activation='relu', padding='same', name='i2c1')(input2_img) #nb_filter, nb_row, nb_col\n",
    "\n",
    "input2_pool1 = MaxPooling2D(pool_size=(2, 2), name='i2p1')(input2_conv1)\n",
    "input2_conv2 = Conv2D(8, (3, 3), activation='relu', padding='same', name='i2c2')(input2_pool1)\n",
    "\n",
    "combine = average([input2_conv2,input1_conv2], name='combine')\n",
    "combine_pool2 = MaxPooling2D(pool_size=(2, 2), name='combinepool2')(combine)\n",
    "\n",
    "encoded = Conv2D(4, (3, 3), activation='relu', padding='same', name='encode')(combine_pool2)\n",
    "\n",
    "combine_pool3 = UpSampling2D(size=(2, 2), name='combinepool3')(encoded)\n",
    "\n",
    "input1_conv4 = Conv2D(8, (3, 3), activation='relu', padding='same', name='i1c4')(combine_pool3)\n",
    "\n",
    "input1_pool4 = UpSampling2D(size=(2, 2), name='i1p4')(input1_conv4)\n",
    "input1_conv5 = Conv2D(16, (3, 3), activation='relu', padding='same', name='i1c5')(input1_pool4)\n",
    "\n",
    "input1_decoded = Conv2D(1, (5, 5), activation='sigmoid', padding='same', name='i1d1')(input1_conv5)\n",
    "\n",
    "input2_conv4 = Conv2D(8, (3, 3), activation='relu', padding='same', name='i2c4')(combine_pool3)\n",
    "\n",
    "input2_pool4 = UpSampling2D(size=(2, 2), name='i2p4')(input2_conv4)\n",
    "input2_conv5 = Conv2D(16, (3, 3), activation='relu', padding='same', name='i2c5')(input2_pool4)\n",
    "\n",
    "input2_decoded = Conv2D(1, (5, 5), activation='sigmoid', padding='same', name='i2d1')(input2_conv5)\n",
    "\n",
    "autoencoder = Model(inputs=[input1_img,input2_img], outputs=[input1_decoded,input2_decoded])\n",
    "autoencoder.compile(optimizer='adadelta', loss=[own_loss,own_loss], loss_weights=[1.0,1.0])\n",
    "\n",
    "names = [weight.name for layer in autoencoder.layers for weight in layer.weights]\n",
    "weights = autoencoder.get_weights()\n",
    "\n",
    "for name, weight in zip(names, weights):\n",
    "    print(name, weight.shape)"
   ]
  },
  {
   "cell_type": "code",
   "execution_count": 56,
   "metadata": {},
   "outputs": [],
   "source": [
    "autoencoder.get_layer(\"i1c1\").set_weights(input1_train1_autoencoder.get_layer('t1c1').get_weights())\n",
    "autoencoder.get_layer(\"i2c1\").set_weights(input2_train1_autoencoder.get_layer('t1c1').get_weights())\n",
    "autoencoder.get_layer(\"i1d1\").set_weights(input1_train1_autoencoder.get_layer('t1d1').get_weights())\n",
    "autoencoder.get_layer(\"i2d1\").set_weights(input2_train1_autoencoder.get_layer('t1d1').get_weights())\n",
    "\n",
    "#---\n",
    "\n",
    "autoencoder.get_layer(\"i1p1\").set_weights(input1_train2_autoencoder.get_layer('t2p1').get_weights())\n",
    "autoencoder.get_layer(\"i2p1\").set_weights(input2_train2_autoencoder.get_layer('t2p1').get_weights())\n",
    "\n",
    "autoencoder.get_layer(\"i1c2\").set_weights(input1_train2_autoencoder.get_layer('t2c1').get_weights())\n",
    "autoencoder.get_layer(\"i2c2\").set_weights(input2_train2_autoencoder.get_layer('t2c1').get_weights())\n",
    "\n",
    "autoencoder.get_layer(\"i1p4\").set_weights(input1_train2_autoencoder.get_layer('t2p2').get_weights())\n",
    "autoencoder.get_layer(\"i2p4\").set_weights(input2_train2_autoencoder.get_layer('t2p2').get_weights())\n",
    "\n",
    "autoencoder.get_layer(\"i1c5\").set_weights(input1_train2_autoencoder.get_layer('t2d1').get_weights())\n",
    "autoencoder.get_layer(\"i2c5\").set_weights(input2_train2_autoencoder.get_layer('t2d1').get_weights())\n",
    "\n",
    "#---\n",
    "\n",
    "autoencoder.get_layer(\"combinepool2\").set_weights(train3_autoencoder.get_layer('t3combinep1').get_weights())\n",
    "\n",
    "autoencoder.get_layer(\"combinepool3\").set_weights(train3_autoencoder.get_layer('t3combinep2').get_weights())\n",
    "\n",
    "autoencoder.get_layer(\"encode\").set_weights(train3_autoencoder.get_layer('t3combinec1').get_weights())\n",
    "\n",
    "autoencoder.get_layer(\"i1c4\").set_weights(train3_autoencoder.get_layer('t3i1c2').get_weights())\n",
    "autoencoder.get_layer(\"i2c4\").set_weights(train3_autoencoder.get_layer('t3i2c2').get_weights())"
   ]
  },
  {
   "cell_type": "code",
   "execution_count": 60,
   "metadata": {},
   "outputs": [
    {
     "name": "stdout",
     "output_type": "stream",
     "text": [
      "Train on 60000 samples, validate on 10000 samples\n",
      "Epoch 1/1\n",
      "60000/60000 [==============================] - 340s 6ms/step - loss: 0.1850 - i1d1_loss: 0.0929 - i2d1_loss: 0.0921 - val_loss: 0.0109 - val_i1d1_loss: 0.0057 - val_i2d1_loss: 0.0052\n"
     ]
    },
    {
     "data": {
      "text/plain": [
       "<keras.callbacks.History at 0x2c7bfd68>"
      ]
     },
     "execution_count": 60,
     "metadata": {},
     "output_type": "execute_result"
    }
   ],
   "source": [
    "### fine tune\n",
    "\n",
    "autoencoder.fit([x_train_noisy, x_train_noisy], [x_train, x_train], epochs=1, batch_size=20,\n",
    "            shuffle=True, validation_data=([x_test, x_test], [x_test, x_test]), verbose=1)"
   ]
  },
  {
   "cell_type": "code",
   "execution_count": 61,
   "metadata": {},
   "outputs": [
    {
     "data": {
      "image/png": "[encoded data removed]",
      "text/plain": [
       "<matplotlib.figure.Figure at 0x2cb4b5c0>"
      ]
     },
     "metadata": {},
     "output_type": "display_data"
    }
   ],
   "source": [
    "def show_imgs(x_test, decoded_imgs, n=10):\n",
    "    plt.figure(figsize=(20, 4))\n",
    "    for i in range(n):\n",
    "        ax = plt.subplot(3, n, i+1)\n",
    "        plt.imshow(x_test[i].reshape(28,28))\n",
    "        plt.gray()\n",
    "        ax.get_xaxis().set_visible(False)\n",
    "        ax.get_yaxis().set_visible(False)\n",
    "\n",
    "        ax = plt.subplot(3, n, i+ 1 +n)\n",
    "        plt.imshow(decoded_imgs[0][i].reshape(28,28))\n",
    "        plt.gray()\n",
    "        ax.get_xaxis().set_visible(False)\n",
    "        ax.get_yaxis().set_visible(False)\n",
    "        \n",
    "        ax = plt.subplot(3, n, i+ 1 +2*n)\n",
    "        plt.imshow(decoded_imgs[1][i].reshape(28,28))\n",
    "        plt.gray()\n",
    "        ax.get_xaxis().set_visible(False)\n",
    "        ax.get_yaxis().set_visible(False)\n",
    "        \n",
    "    plt.show()\n",
    "    \n",
    "decoded_imgs = autoencoder.predict([x_test_noisy, x_test_noisy])\n",
    "show_imgs(x_test_noisy, decoded_imgs)"
   ]
  },
  {
   "cell_type": "code",
   "execution_count": 63,
   "metadata": {},
   "outputs": [
    {
     "data": {
      "image/png": "[encoded data removed]",
      "text/plain": [
       "<matplotlib.figure.Figure at 0x32217240>"
      ]
     },
     "metadata": {},
     "output_type": "display_data"
    }
   ],
   "source": [
    "enbig1 = UpSampling2D(size=(2, 2))(encoded)\n",
    "enbig2 = UpSampling2D(size=(2, 2))(enbig1)\n",
    "\n",
    "autoencoder_show_hidden = Model([input1_img, input2_img], enbig2)\n",
    "encoded_imgs = autoencoder_show_hidden.predict([x_test_noisy, x_test_noisy])\n",
    "\n",
    "def show_hidden(x_test, encoded_imgs, n=10):\n",
    "    \n",
    "    en0=np.zeros((encoded_imgs.shape[0],encoded_imgs.shape[1],encoded_imgs.shape[2]))\n",
    "    en1=np.zeros((encoded_imgs.shape[0],encoded_imgs.shape[1],encoded_imgs.shape[2]))\n",
    "    en2=np.zeros((encoded_imgs.shape[0],encoded_imgs.shape[1],encoded_imgs.shape[2]))\n",
    "    en3=np.zeros((encoded_imgs.shape[0],encoded_imgs.shape[1],encoded_imgs.shape[2]))\n",
    "\n",
    "    for i in range(encoded_imgs.shape[0]):\n",
    "        for j in range(encoded_imgs.shape[1]):\n",
    "            for k in range(encoded_imgs.shape[2]):\n",
    "                en0[i][j][k]=encoded_imgs[i][j][k][0]\n",
    "                en1[i][j][k]=encoded_imgs[i][j][k][1]\n",
    "                en2[i][j][k]=encoded_imgs[i][j][k][2]\n",
    "                en3[i][j][k]=encoded_imgs[i][j][k][3]\n",
    "    \n",
    "    plt.figure(figsize=(20, 4))\n",
    "    for i in range(n):\n",
    "        ax = plt.subplot(5, n, i+1)\n",
    "        plt.imshow(x_test[i].reshape(28,28))\n",
    "        plt.gray()\n",
    "        ax.get_xaxis().set_visible(False)\n",
    "        ax.get_yaxis().set_visible(False)\n",
    "\n",
    "        if decoded_imgs is not None:\n",
    "            ax = plt.subplot(5, n, i+ 1 +n)\n",
    "            plt.imshow(en0[i].reshape(28,28))\n",
    "            plt.gray()\n",
    "            ax.get_xaxis().set_visible(False)\n",
    "            ax.get_yaxis().set_visible(False)\n",
    "            \n",
    "            ax = plt.subplot(5, n, i+ 1 +2*n)\n",
    "            plt.imshow(en1[i].reshape(28,28))\n",
    "            plt.gray()\n",
    "            ax.get_xaxis().set_visible(False)\n",
    "            ax.get_yaxis().set_visible(False)\n",
    "            \n",
    "            ax = plt.subplot(5, n, i+ 1 +3*n)\n",
    "            plt.imshow(en2[i].reshape(28,28))\n",
    "            plt.gray()\n",
    "            ax.get_xaxis().set_visible(False)\n",
    "            ax.get_yaxis().set_visible(False)\n",
    "            \n",
    "            ax = plt.subplot(5, n, i+ 1 +4*n)\n",
    "            plt.imshow(en3[i].reshape(28,28))\n",
    "            plt.gray()\n",
    "            ax.get_xaxis().set_visible(False)\n",
    "            ax.get_yaxis().set_visible(False)\n",
    "    plt.show()\n",
    "\n",
    "show_hidden(x_test, encoded_imgs)"
   ]
  },
  {
   "cell_type": "code",
   "execution_count": 64,
   "metadata": {},
   "outputs": [
    {
     "name": "stdout",
     "output_type": "stream",
     "text": [
      "__________________________________________________________________________________________________\n",
      "Layer (type)                    Output Shape         Param #     Connected to                     \n",
      "==================================================================================================\n",
      "input_51 (InputLayer)           (None, 28, 28, 1)    0                                            \n",
      "__________________________________________________________________________________________________\n",
      "input_50 (InputLayer)           (None, 28, 28, 1)    0                                            \n",
      "__________________________________________________________________________________________________\n",
      "i2c1 (Conv2D)                   (None, 28, 28, 16)   160         input_51[0][0]                   \n",
      "__________________________________________________________________________________________________\n",
      "i1c1 (Conv2D)                   (None, 28, 28, 16)   160         input_50[0][0]                   \n",
      "__________________________________________________________________________________________________\n",
      "i2p1 (MaxPooling2D)             (None, 14, 14, 16)   0           i2c1[0][0]                       \n",
      "__________________________________________________________________________________________________\n",
      "i1p1 (MaxPooling2D)             (None, 14, 14, 16)   0           i1c1[0][0]                       \n",
      "__________________________________________________________________________________________________\n",
      "i2c2 (Conv2D)                   (None, 14, 14, 8)    1160        i2p1[0][0]                       \n",
      "__________________________________________________________________________________________________\n",
      "i1c2 (Conv2D)                   (None, 14, 14, 8)    1160        i1p1[0][0]                       \n",
      "__________________________________________________________________________________________________\n",
      "combine (Average)               (None, 14, 14, 8)    0           i2c2[0][0]                       \n",
      "                                                                 i1c2[0][0]                       \n",
      "__________________________________________________________________________________________________\n",
      "combinepool2 (MaxPooling2D)     (None, 7, 7, 8)      0           combine[0][0]                    \n",
      "__________________________________________________________________________________________________\n",
      "encode (Conv2D)                 (None, 7, 7, 4)      292         combinepool2[0][0]               \n",
      "__________________________________________________________________________________________________\n",
      "combinepool3 (UpSampling2D)     (None, 14, 14, 4)    0           encode[0][0]                     \n",
      "__________________________________________________________________________________________________\n",
      "i1c4 (Conv2D)                   (None, 14, 14, 8)    296         combinepool3[0][0]               \n",
      "__________________________________________________________________________________________________\n",
      "i2c4 (Conv2D)                   (None, 14, 14, 8)    296         combinepool3[0][0]               \n",
      "__________________________________________________________________________________________________\n",
      "i1p4 (UpSampling2D)             (None, 28, 28, 8)    0           i1c4[0][0]                       \n",
      "__________________________________________________________________________________________________\n",
      "i2p4 (UpSampling2D)             (None, 28, 28, 8)    0           i2c4[0][0]                       \n",
      "__________________________________________________________________________________________________\n",
      "i1c5 (Conv2D)                   (None, 28, 28, 16)   1168        i1p4[0][0]                       \n",
      "__________________________________________________________________________________________________\n",
      "i2c5 (Conv2D)                   (None, 28, 28, 16)   1168        i2p4[0][0]                       \n",
      "__________________________________________________________________________________________________\n",
      "i1d1 (Conv2D)                   (None, 28, 28, 1)    401         i1c5[0][0]                       \n",
      "__________________________________________________________________________________________________\n",
      "i2d1 (Conv2D)                   (None, 28, 28, 1)    401         i2c5[0][0]                       \n",
      "==================================================================================================\n",
      "Total params: 6,662\n",
      "Trainable params: 6,662\n",
      "Non-trainable params: 0\n",
      "__________________________________________________________________________________________________\n"
     ]
    }
   ],
   "source": [
    "autoencoder.summary()"
   ]
  },
  {
   "cell_type": "code",
   "execution_count": null,
   "metadata": {},
   "outputs": [],
   "source": []
  }
 ],
 "metadata": {
  "kernelspec": {
   "display_name": "Python 3",
   "language": "python",
   "name": "python3"
  },
  "language_info": {
   "codemirror_mode": {
    "name": "ipython",
    "version": 3
   },
   "file_extension": ".py",
   "mimetype": "text/x-python",
   "name": "python",
   "nbconvert_exporter": "python",
   "pygments_lexer": "ipython3",
   "version": "3.6.4"
  }
 },
 "nbformat": 4,
 "nbformat_minor": 2
}
