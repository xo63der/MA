{
 "cells": [
  {
   "cell_type": "code",
   "execution_count": 1,
   "metadata": {},
   "outputs": [
    {
     "name": "stderr",
     "output_type": "stream",
     "text": [
      "C:\\ProgramData\\Anaconda3\\lib\\site-packages\\h5py\\__init__.py:36: FutureWarning: Conversion of the second argument of issubdtype from `float` to `np.floating` is deprecated. In future, it will be treated as `np.float64 == np.dtype(float).type`.\n",
      "  from ._conv import register_converters as _register_converters\n",
      "Using TensorFlow backend.\n"
     ]
    },
    {
     "name": "stdout",
     "output_type": "stream",
     "text": [
      "(60000, 28, 28, 1)\n",
      "Train on 60000 samples, validate on 10000 samples\n",
      "Epoch 1/1\n",
      "60000/60000 [==============================] - 141s 2ms/step - loss: -0.0072 - val_loss: -0.0116\n",
      "Train on 60000 samples, validate on 10000 samples\n",
      "Epoch 1/1\n",
      "60000/60000 [==============================] - 136s 2ms/step - loss: -0.0070 - val_loss: -0.0116\n"
     ]
    },
    {
     "data": {
      "text/plain": [
       "<keras.callbacks.History at 0xe9a2f60>"
      ]
     },
     "execution_count": 1,
     "metadata": {},
     "output_type": "execute_result"
    }
   ],
   "source": [
    "# %matplotlib inline\n",
    "# %config InlineBackend.figure_format = 'retina'\n",
    "\n",
    "# convolutional autoencoder in keras\n",
    "\n",
    "import os\n",
    "#os.environ[\"KERAS_BACKEND\"] = \"tensorflow\"\n",
    "\n",
    "from __future__ import print_function\n",
    "from keras.models import Model\n",
    "from keras.layers import Dense, Input, Conv2D, MaxPooling2D, UpSampling2D\n",
    "from keras.datasets import mnist\n",
    "from keras.regularizers import l1\n",
    "from keras.optimizers import Adam\n",
    "from keras import backend as K\n",
    "\n",
    "import matplotlib.pyplot as plt\n",
    "# %matplotlib inline\n",
    "\n",
    "from keras.datasets import mnist \n",
    "\n",
    "import matplotlib.pyplot as plt\n",
    "import pandas as pd\n",
    "import numpy as np\n",
    "import seaborn as sns\n",
    "import warnings\n",
    "\n",
    "warnings.filterwarnings('ignore')\n",
    "\n",
    "def own_kullback_leibler_divergence(y_true, y_pred):\n",
    "    y_true = K.clip(y_true, K.epsilon(), 1)\n",
    "    y_pred = K.clip(y_pred, K.epsilon(), 1)\n",
    "    return K.sum(y_true * K.log(y_true / y_pred), axis=-1)\n",
    "\n",
    "def own_mean_squared_error(y_true, y_pred):\n",
    "    return K.mean(K.square(y_pred - y_true), axis=-1)\n",
    "\n",
    "def own_loss(y_true, y_pred):\n",
    "    return 1.0*own_kullback_leibler_divergence(y_true, y_pred)+own_mean_squared_error(y_true, y_pred)\n",
    "\n",
    "# utility function for showing images\n",
    "def show_imgs(x_test, decoded_imgs, n=10):\n",
    "    plt.figure(figsize=(20, 4))\n",
    "    for i in range(n):\n",
    "        ax = plt.subplot(2, n, i+1)\n",
    "        plt.imshow(x_test[i].reshape(28,28))\n",
    "        plt.gray()\n",
    "        ax.get_xaxis().set_visible(False)\n",
    "        ax.get_yaxis().set_visible(False)\n",
    "\n",
    "        if decoded_imgs is not None:\n",
    "            ax = plt.subplot(2, n, i+ 1 +n)\n",
    "            plt.imshow(decoded_imgs[i].reshape(28,28))\n",
    "            plt.gray()\n",
    "            ax.get_xaxis().set_visible(False)\n",
    "            ax.get_yaxis().set_visible(False)\n",
    "    plt.show()\n",
    "\n",
    "\n",
    "input_img = Input(shape=(28, 28,1)) # 1ch=black&white, 28 x 28\n",
    "\n",
    "(x_train, _), (x_test, _) = mnist.load_data()\n",
    "\n",
    "x_train = x_train.astype('float32')/255. # 0-1.に変換\n",
    "x_test = x_test.astype('float32')/255. \n",
    "\n",
    "x_train = np.reshape(x_train, (len(x_train), 28, 28, 1))\n",
    "x_test = np.reshape(x_test, (len(x_test), 28, 28, 1))\n",
    "\n",
    "print(x_train.shape)\n",
    "\n",
    "### pretrain\n",
    "\n",
    "#input1\n",
    "train11_conv1 = Conv2D(16, (3, 3), activation='relu', padding='same')(input_img) #nb_filter, nb_row, nb_col\n",
    "\n",
    "train11_decoded = Conv2D(1, (5, 5), activation='sigmoid', padding='same')(train11_conv1)\n",
    "\n",
    "train11_autoencoder = Model(input_img, train11_decoded)\n",
    "train11_autoencoder.compile(optimizer='adadelta', loss=own_loss)\n",
    "\n",
    "train11_autoencoder.fit(x_train, x_train, epochs=1, batch_size=20,\n",
    "               shuffle=True, validation_data=(x_test, x_test), verbose=1)\n",
    "\n",
    "#input2\n",
    "train21_conv1 = Conv2D(16, (3, 3), activation='relu', padding='same')(input_img) #nb_filter, nb_row, nb_col\n",
    "\n",
    "train21_decoded = Conv2D(1, (5, 5), activation='sigmoid', padding='same')(train21_conv1)\n",
    "\n",
    "train21_autoencoder = Model(input_img, train21_decoded)\n",
    "train21_autoencoder.compile(optimizer='adadelta', loss=own_loss)\n",
    "\n",
    "train21_autoencoder.fit(x_train, x_train, epochs=1, batch_size=20,\n",
    "               shuffle=True, validation_data=(x_test, x_test), verbose=1)"
   ]
  },
  {
   "cell_type": "code",
   "execution_count": 2,
   "metadata": {},
   "outputs": [
    {
     "name": "stdout",
     "output_type": "stream",
     "text": [
      "_________________________________________________________________\n",
      "Layer (type)                 Output Shape              Param #   \n",
      "=================================================================\n",
      "input_1 (InputLayer)         (None, 28, 28, 1)         0         \n",
      "_________________________________________________________________\n",
      "conv2d_1 (Conv2D)            (None, 28, 28, 16)        160       \n",
      "_________________________________________________________________\n",
      "conv2d_2 (Conv2D)            (None, 28, 28, 1)         401       \n",
      "=================================================================\n",
      "Total params: 561\n",
      "Trainable params: 561\n",
      "Non-trainable params: 0\n",
      "_________________________________________________________________\n",
      "_________________________________________________________________\n",
      "Layer (type)                 Output Shape              Param #   \n",
      "=================================================================\n",
      "input_1 (InputLayer)         (None, 28, 28, 1)         0         \n",
      "_________________________________________________________________\n",
      "conv2d_3 (Conv2D)            (None, 28, 28, 16)        160       \n",
      "_________________________________________________________________\n",
      "conv2d_4 (Conv2D)            (None, 28, 28, 1)         401       \n",
      "=================================================================\n",
      "Total params: 561\n",
      "Trainable params: 561\n",
      "Non-trainable params: 0\n",
      "_________________________________________________________________\n"
     ]
    }
   ],
   "source": [
    "train11_autoencoder.summary()\n",
    "train21_autoencoder.summary()"
   ]
  },
  {
   "cell_type": "code",
   "execution_count": 4,
   "metadata": {},
   "outputs": [
    {
     "name": "stdout",
     "output_type": "stream",
     "text": [
      "(60000, 28, 28, 16)\n",
      "(60000, 28, 28, 16)\n"
     ]
    }
   ],
   "source": [
    "input_creator_train12 = Model(input_img, train11_conv1)\n",
    "for i in range(2):\n",
    "    input_creator_train12.layers[i].set_weights(train11_autoencoder.layers[i].get_weights())\n",
    "\n",
    "input_train12 = input_creator_train12.predict(x_train)\n",
    "\n",
    "print(input_train12.shape)\n",
    "\n",
    "input_creator_train22 = Model(input_img, train21_conv1)\n",
    "for i in range(2):\n",
    "    input_creator_train22.layers[i].set_weights(train21_autoencoder.layers[i].get_weights())\n",
    "\n",
    "input_train22 = input_creator_train22.predict(x_train)\n",
    "\n",
    "print(input_train22.shape)"
   ]
  },
  {
   "cell_type": "code",
   "execution_count": 7,
   "metadata": {},
   "outputs": [
    {
     "name": "stdout",
     "output_type": "stream",
     "text": [
      "Epoch 1/1\n",
      "60000/60000 [==============================] - 122s 2ms/step - loss: -2.3975\n",
      "Epoch 1/1\n",
      "60000/60000 [==============================] - 126s 2ms/step - loss: -2.3931\n"
     ]
    },
    {
     "data": {
      "text/plain": [
       "<keras.callbacks.History at 0xf6f4780>"
      ]
     },
     "execution_count": 7,
     "metadata": {},
     "output_type": "execute_result"
    }
   ],
   "source": [
    "input_img_train2 = Input(shape=(28, 28,16))\n",
    "\n",
    "#input1\n",
    "train12_pool1 = MaxPooling2D(pool_size=(2, 2))(input_img_train2)\n",
    "train12_conv1 = Conv2D(8, (3, 3), activation='relu', padding='same')(train12_pool1) #nb_filter, nb_row, nb_col\n",
    "\n",
    "#---\n",
    "\n",
    "train12_pool2 = UpSampling2D(size=(2, 2))(train12_conv1)\n",
    "train12_decoded = Conv2D(16, (3, 3), activation='relu', padding='same')(train12_pool2)\n",
    "\n",
    "train12_autoencoder = Model(input_img_train2, train12_decoded)\n",
    "train12_autoencoder.compile(optimizer='adadelta', loss=own_loss)\n",
    "\n",
    "train12_autoencoder.fit(input_train12, input_train12, epochs=1, batch_size=20, verbose=1)\n",
    "\n",
    "#input2\n",
    "train22_pool1 = MaxPooling2D(pool_size=(2, 2))(input_img_train2)\n",
    "train22_conv1 = Conv2D(8, (3, 3), activation='relu', padding='same')(train22_pool1) #nb_filter, nb_row, nb_col\n",
    "\n",
    "#---\n",
    "\n",
    "train22_pool2 = UpSampling2D(size=(2, 2))(train22_conv1)\n",
    "train22_decoded = Conv2D(16, (3, 3), activation='relu', padding='same')(train22_pool2)\n",
    "\n",
    "train22_autoencoder = Model(input_img_train2, train22_decoded)\n",
    "train22_autoencoder.compile(optimizer='adadelta', loss=own_loss)\n",
    "\n",
    "train22_autoencoder.fit(input_train22, input_train22, epochs=1, batch_size=20, verbose=1)"
   ]
  },
  {
   "cell_type": "code",
   "execution_count": 8,
   "metadata": {},
   "outputs": [
    {
     "name": "stdout",
     "output_type": "stream",
     "text": [
      "_________________________________________________________________\n",
      "Layer (type)                 Output Shape              Param #   \n",
      "=================================================================\n",
      "input_4 (InputLayer)         (None, 28, 28, 16)        0         \n",
      "_________________________________________________________________\n",
      "max_pooling2d_3 (MaxPooling2 (None, 14, 14, 16)        0         \n",
      "_________________________________________________________________\n",
      "conv2d_9 (Conv2D)            (None, 14, 14, 8)         1160      \n",
      "_________________________________________________________________\n",
      "up_sampling2d_3 (UpSampling2 (None, 28, 28, 8)         0         \n",
      "_________________________________________________________________\n",
      "conv2d_10 (Conv2D)           (None, 28, 28, 16)        1168      \n",
      "=================================================================\n",
      "Total params: 2,328\n",
      "Trainable params: 2,328\n",
      "Non-trainable params: 0\n",
      "_________________________________________________________________\n",
      "_________________________________________________________________\n",
      "Layer (type)                 Output Shape              Param #   \n",
      "=================================================================\n",
      "input_4 (InputLayer)         (None, 28, 28, 16)        0         \n",
      "_________________________________________________________________\n",
      "max_pooling2d_4 (MaxPooling2 (None, 14, 14, 16)        0         \n",
      "_________________________________________________________________\n",
      "conv2d_11 (Conv2D)           (None, 14, 14, 8)         1160      \n",
      "_________________________________________________________________\n",
      "up_sampling2d_4 (UpSampling2 (None, 28, 28, 8)         0         \n",
      "_________________________________________________________________\n",
      "conv2d_12 (Conv2D)           (None, 28, 28, 16)        1168      \n",
      "=================================================================\n",
      "Total params: 2,328\n",
      "Trainable params: 2,328\n",
      "Non-trainable params: 0\n",
      "_________________________________________________________________\n"
     ]
    }
   ],
   "source": [
    "train12_autoencoder.summary()\n",
    "train22_autoencoder.summary()"
   ]
  },
  {
   "cell_type": "code",
   "execution_count": 10,
   "metadata": {},
   "outputs": [
    {
     "name": "stdout",
     "output_type": "stream",
     "text": [
      "(60000, 14, 14, 8)\n",
      "(60000, 14, 14, 8)\n"
     ]
    }
   ],
   "source": [
    "input_creator_train13 = Model(input_img_train2, train12_conv1)\n",
    "for i in range(3):\n",
    "    input_creator_train13.layers[i].set_weights(train12_autoencoder.layers[i].get_weights())\n",
    "\n",
    "input_train13 = input_creator_train13.predict(input_creator_train12.predict(x_train))\n",
    "\n",
    "print(input_train13.shape)\n",
    "\n",
    "input_creator_train23 = Model(input_img_train2, train22_conv1)\n",
    "for i in range(3):\n",
    "    input_creator_train23.layers[i].set_weights(train22_autoencoder.layers[i].get_weights())\n",
    "\n",
    "input_train23 = input_creator_train23.predict(input_creator_train22.predict(x_train))\n",
    "\n",
    "print(input_train23.shape)"
   ]
  },
  {
   "cell_type": "code",
   "execution_count": 36,
   "metadata": {},
   "outputs": [
    {
     "name": "stdout",
     "output_type": "stream",
     "text": [
      "Epoch 1/1\n",
      "60000/60000 [==============================] - 22s 372us/step - loss: -0.0110\n"
     ]
    },
    {
     "data": {
      "text/plain": [
       "<keras.callbacks.History at 0x166cdc18>"
      ]
     },
     "execution_count": 36,
     "metadata": {},
     "output_type": "execute_result"
    }
   ],
   "source": [
    "from keras.layers import average\n",
    "\n",
    "input_img_train3 = Input(shape=(14, 14,8))\n",
    "\n",
    "combine = average([input_img_train3,input_img_train3])\n",
    "train3_pool1 = MaxPooling2D(pool_size=(2, 2))(combine)\n",
    "train3_conv1 = Conv2D(4, (3, 3), activation='relu', padding='same')(train13_pool1) #nb_filter, nb_row, nb_col\n",
    "\n",
    "#---\n",
    "\n",
    "train3_pool2 = UpSampling2D(size=(2, 2))(train3_conv1)\n",
    "\n",
    "train3_decoded = Conv2D(8, (3, 3), activation='relu', padding='same')(train3_pool2)\n",
    "\n",
    "train3_autoencoder = Model(inputs=[input_img_train3,input_img_train3], outputs=[train3_decoded,train3_decoded])\n",
    "train3_autoencoder.compile(optimizer='adadelta', loss=own_loss)\n",
    "\n",
    "train13_autoencoder.fit(input_train3, input_train3, epochs=1, batch_size=20, verbose=1)"
   ]
  },
  {
   "cell_type": "code",
   "execution_count": 37,
   "metadata": {},
   "outputs": [
    {
     "name": "stdout",
     "output_type": "stream",
     "text": [
      "_________________________________________________________________\n",
      "Layer (type)                 Output Shape              Param #   \n",
      "=================================================================\n",
      "input_9 (InputLayer)         (None, 14, 14, 8)         0         \n",
      "_________________________________________________________________\n",
      "max_pooling2d_14 (MaxPooling (None, 7, 7, 8)           0         \n",
      "_________________________________________________________________\n",
      "conv2d_36 (Conv2D)           (None, 7, 7, 4)           292       \n",
      "_________________________________________________________________\n",
      "up_sampling2d_14 (UpSampling (None, 14, 14, 4)         0         \n",
      "_________________________________________________________________\n",
      "conv2d_37 (Conv2D)           (None, 14, 14, 8)         296       \n",
      "=================================================================\n",
      "Total params: 588\n",
      "Trainable params: 588\n",
      "Non-trainable params: 0\n",
      "_________________________________________________________________\n"
     ]
    }
   ],
   "source": [
    "train13_autoencoder.summary()"
   ]
  },
  {
   "cell_type": "code",
   "execution_count": 61,
   "metadata": {},
   "outputs": [
    {
     "name": "stdout",
     "output_type": "stream",
     "text": [
      "(?, 28, 28, 16)\n"
     ]
    }
   ],
   "source": [
    "### unroll\n",
    "\n",
    "conv1 = Conv2D(16, (3, 3), activation='relu', padding='same')(input_img) #nb_filter, nb_row, nb_col\n",
    "\n",
    "pool1 = MaxPooling2D(pool_size=(2, 2))(conv1)\n",
    "conv2 = Conv2D(8, (3, 3), activation='relu', padding='same')(pool1)\n",
    "\n",
    "pool2 = MaxPooling2D(pool_size=(2, 2))(conv2)\n",
    "encoded = Conv2D(4, (3, 3), activation='relu', padding='same')(pool2)\n",
    "\n",
    "pool3 = UpSampling2D(size=(2, 2))(encoded)\n",
    "conv4 = Conv2D(8, (3, 3), activation='relu', padding='same')(pool3)\n",
    "\n",
    "pool4 = UpSampling2D(size=(2, 2))(conv4)\n",
    "conv5 = Conv2D(16, (3, 3), activation='relu', padding='same')(pool4)\n",
    "\n",
    "decoded = Conv2D(1, (5, 5), activation='sigmoid', padding='same')(conv5)\n",
    "\n",
    "autoencoder = Model(input_img, decoded)\n",
    "autoencoder.compile(optimizer='adadelta', loss=own_loss)\n",
    "\n",
    "print(train11_conv1.shape)\n",
    "\n",
    "autoencoder.layers[0].set_weights(train11_autoencoder.layers[0].get_weights())\n",
    "autoencoder.layers[1].set_weights(train11_autoencoder.layers[1].get_weights())\n",
    "\n",
    "autoencoder.layers[10].set_weights(train11_autoencoder.layers[2].get_weights())"
   ]
  },
  {
   "cell_type": "code",
   "execution_count": 62,
   "metadata": {},
   "outputs": [],
   "source": [
    "\n",
    "autoencoder.layers[2].set_weights(train12_autoencoder.layers[1].get_weights())\n",
    "autoencoder.layers[3].set_weights(train12_autoencoder.layers[2].get_weights())\n",
    "\n",
    "autoencoder.layers[8].set_weights(train12_autoencoder.layers[3].get_weights())\n",
    "autoencoder.layers[9].set_weights(train12_autoencoder.layers[4].get_weights())\n",
    "\n",
    "autoencoder.layers[4].set_weights(train3_autoencoder.layers[1].get_weights())\n",
    "autoencoder.layers[5].set_weights(train3_autoencoder.layers[2].get_weights())\n",
    "autoencoder.layers[6].set_weights(train3_autoencoder.layers[3].get_weights())\n",
    "autoencoder.layers[7].set_weights(train3_autoencoder.layers[4].get_weights())"
   ]
  },
  {
   "cell_type": "code",
   "execution_count": 63,
   "metadata": {},
   "outputs": [
    {
     "name": "stdout",
     "output_type": "stream",
     "text": [
      "shape of decoded (None, 7, 7, 4)\n",
      "shape of decoded (None, 28, 28, 1)\n",
      "Train on 60000 samples, validate on 10000 samples\n",
      "Epoch 1/1\n",
      "60000/60000 [==============================] - 180s 3ms/step - loss: 0.0033 - val_loss: -0.0026\n"
     ]
    },
    {
     "data": {
      "text/plain": [
       "<keras.callbacks.History at 0x1ce55da0>"
      ]
     },
     "execution_count": 63,
     "metadata": {},
     "output_type": "execute_result"
    }
   ],
   "source": [
    "print(\"shape of decoded\", K.int_shape(encoded))\n",
    "print(\"shape of decoded\", K.int_shape(decoded))\n",
    "\n",
    "### fine tune\n",
    "\n",
    "autoencoder.fit(x_train, x_train, epochs=1, batch_size=20,\n",
    "            shuffle=True, validation_data=(x_test, x_test), verbose=1)"
   ]
  },
  {
   "cell_type": "code",
   "execution_count": 64,
   "metadata": {},
   "outputs": [
    {
     "data": {
      "image/png": "[encoded data removed]",
      "text/plain": [
       "<matplotlib.figure.Figure at 0x1d365f98>"
      ]
     },
     "metadata": {},
     "output_type": "display_data"
    }
   ],
   "source": [
    "def show_imgs(x_test, decoded_imgs, n=10):\n",
    "    plt.figure(figsize=(20, 4))\n",
    "    for i in range(n):\n",
    "        ax = plt.subplot(2, n, i+1)\n",
    "        plt.imshow(x_test[i].reshape(28,28))\n",
    "        plt.gray()\n",
    "        ax.get_xaxis().set_visible(False)\n",
    "        ax.get_yaxis().set_visible(False)\n",
    "\n",
    "        if decoded_imgs is not None:\n",
    "            ax = plt.subplot(2, n, i+ 1 +n)\n",
    "            plt.imshow(decoded_imgs[i].reshape(28,28))\n",
    "            plt.gray()\n",
    "            ax.get_xaxis().set_visible(False)\n",
    "            ax.get_yaxis().set_visible(False)\n",
    "    plt.show()\n",
    "    \n",
    "decoded_imgs = autoencoder.predict(x_test)\n",
    "show_imgs(x_test, decoded_imgs)"
   ]
  },
  {
   "cell_type": "code",
   "execution_count": 70,
   "metadata": {},
   "outputs": [
    {
     "data": {
      "image/png": "[encoded data removed]",
      "text/plain": [
       "<matplotlib.figure.Figure at 0x1d6eb390>"
      ]
     },
     "metadata": {},
     "output_type": "display_data"
    }
   ],
   "source": [
    "enbig1 = UpSampling2D(size=(2, 2))(encoded)\n",
    "enbig2 = UpSampling2D(size=(2, 2))(enbig1)\n",
    "\n",
    "autoencoder_show_hidden = Model(input_img, enbig2)\n",
    "encoded_imgs = autoencoder_show_hidden.predict(x_test)\n",
    "\n",
    "def show_hidden(x_test, encoded_imgs, n=10):\n",
    "    \n",
    "    en0=np.zeros((encoded_imgs.shape[0],encoded_imgs.shape[1],encoded_imgs.shape[2]))\n",
    "    en1=np.zeros((encoded_imgs.shape[0],encoded_imgs.shape[1],encoded_imgs.shape[2]))\n",
    "    en2=np.zeros((encoded_imgs.shape[0],encoded_imgs.shape[1],encoded_imgs.shape[2]))\n",
    "    en3=np.zeros((encoded_imgs.shape[0],encoded_imgs.shape[1],encoded_imgs.shape[2]))\n",
    "\n",
    "    for i in range(encoded_imgs.shape[0]):\n",
    "        for j in range(encoded_imgs.shape[1]):\n",
    "            for k in range(encoded_imgs.shape[2]):\n",
    "                en0[i][j][k]=encoded_imgs[i][j][k][0]\n",
    "                en1[i][j][k]=encoded_imgs[i][j][k][1]\n",
    "                en2[i][j][k]=encoded_imgs[i][j][k][2]\n",
    "                en3[i][j][k]=encoded_imgs[i][j][k][3]\n",
    "    \n",
    "    plt.figure(figsize=(20, 4))\n",
    "    for i in range(n):\n",
    "        ax = plt.subplot(5, n, i+1)\n",
    "        plt.imshow(x_test[i].reshape(28,28))\n",
    "        plt.gray()\n",
    "        ax.get_xaxis().set_visible(False)\n",
    "        ax.get_yaxis().set_visible(False)\n",
    "\n",
    "        if decoded_imgs is not None:\n",
    "            ax = plt.subplot(5, n, i+ 1 +n)\n",
    "            plt.imshow(en0[i].reshape(28,28))\n",
    "            plt.gray()\n",
    "            ax.get_xaxis().set_visible(False)\n",
    "            ax.get_yaxis().set_visible(False)\n",
    "            \n",
    "            ax = plt.subplot(5, n, i+ 1 +2*n)\n",
    "            plt.imshow(en1[i].reshape(28,28))\n",
    "            plt.gray()\n",
    "            ax.get_xaxis().set_visible(False)\n",
    "            ax.get_yaxis().set_visible(False)\n",
    "            \n",
    "            ax = plt.subplot(5, n, i+ 1 +3*n)\n",
    "            plt.imshow(en2[i].reshape(28,28))\n",
    "            plt.gray()\n",
    "            ax.get_xaxis().set_visible(False)\n",
    "            ax.get_yaxis().set_visible(False)\n",
    "            \n",
    "            ax = plt.subplot(5, n, i+ 1 +4*n)\n",
    "            plt.imshow(en3[i].reshape(28,28))\n",
    "            plt.gray()\n",
    "            ax.get_xaxis().set_visible(False)\n",
    "            ax.get_yaxis().set_visible(False)\n",
    "    plt.show()\n",
    "\n",
    "show_hidden(x_test, encoded_imgs)"
   ]
  },
  {
   "cell_type": "code",
   "execution_count": null,
   "metadata": {},
   "outputs": [],
   "source": []
  }
 ],
 "metadata": {
  "kernelspec": {
   "display_name": "Python 3",
   "language": "python",
   "name": "python3"
  },
  "language_info": {
   "codemirror_mode": {
    "name": "ipython",
    "version": 3
   },
   "file_extension": ".py",
   "mimetype": "text/x-python",
   "name": "python",
   "nbconvert_exporter": "python",
   "pygments_lexer": "ipython3",
   "version": "3.6.4"
  }
 },
 "nbformat": 4,
 "nbformat_minor": 2
}
