{
 "cells": [
  {
   "cell_type": "code",
   "execution_count": 72,
   "metadata": {},
   "outputs": [
    {
     "name": "stdout",
     "output_type": "stream",
     "text": [
      "(60000, 28, 28, 1)\n",
      "Train on 60000 samples, validate on 10000 samples\n",
      "Epoch 1/1\n",
      "60000/60000 [==============================] - 134s 2ms/step - loss: 0.0255 - val_loss: -0.0022\n"
     ]
    },
    {
     "data": {
      "text/plain": [
       "<keras.callbacks.History at 0x272f9ba8>"
      ]
     },
     "execution_count": 72,
     "metadata": {},
     "output_type": "execute_result"
    }
   ],
   "source": [
    "# %matplotlib inline\n",
    "# %config InlineBackend.figure_format = 'retina'\n",
    "\n",
    "# convolutional autoencoder in keras\n",
    "\n",
    "import os\n",
    "#os.environ[\"KERAS_BACKEND\"] = \"tensorflow\"\n",
    "\n",
    "from __future__ import print_function\n",
    "from keras.models import Model\n",
    "from keras.layers import Dense, Input, Conv2D, MaxPooling2D, UpSampling2D\n",
    "from keras.datasets import mnist\n",
    "from keras.regularizers import l1\n",
    "from keras.optimizers import Adam\n",
    "from keras import backend as K\n",
    "\n",
    "import matplotlib.pyplot as plt\n",
    "# %matplotlib inline\n",
    "\n",
    "from keras.datasets import mnist \n",
    "\n",
    "import matplotlib.pyplot as plt\n",
    "import pandas as pd\n",
    "import numpy as np\n",
    "import seaborn as sns\n",
    "import warnings\n",
    "\n",
    "warnings.filterwarnings('ignore')\n",
    "\n",
    "def own_kullback_leibler_divergence(y_true, y_pred):\n",
    "    y_true = K.clip(y_true, K.epsilon(), 1)\n",
    "    y_pred = K.clip(y_pred, K.epsilon(), 1)\n",
    "    return K.sum(y_true * K.log(y_true / y_pred), axis=-1)\n",
    "\n",
    "def own_mean_squared_error(y_true, y_pred):\n",
    "    return K.mean(K.square(y_pred - y_true), axis=-1)\n",
    "\n",
    "def own_loss(y_true, y_pred):\n",
    "    return 1.0*own_kullback_leibler_divergence(y_true, y_pred)+own_mean_squared_error(y_true, y_pred)\n",
    "\n",
    "# utility function for showing images\n",
    "def show_imgs(x_test, decoded_imgs, n=10):\n",
    "    plt.figure(figsize=(20, 4))\n",
    "    for i in range(n):\n",
    "        ax = plt.subplot(2, n, i+1)\n",
    "        plt.imshow(x_test[i].reshape(28,28))\n",
    "        plt.gray()\n",
    "        ax.get_xaxis().set_visible(False)\n",
    "        ax.get_yaxis().set_visible(False)\n",
    "\n",
    "        if decoded_imgs is not None:\n",
    "            ax = plt.subplot(2, n, i+ 1 +n)\n",
    "            plt.imshow(decoded_imgs[i].reshape(28,28))\n",
    "            plt.gray()\n",
    "            ax.get_xaxis().set_visible(False)\n",
    "            ax.get_yaxis().set_visible(False)\n",
    "    plt.show()\n",
    "\n",
    "\n",
    "input_img = Input(shape=(28, 28,1)) # 1ch=black&white, 28 x 28\n",
    "\n",
    "(x_all, y_all), (x_all_test, y_all_test) = mnist.load_data()\n",
    "\n",
    "x_9_list=[]\n",
    "for i in range(len(y_all)):\n",
    "    if (y_all[i] == 9):\n",
    "        x_9_list.append(x_all[i])\n",
    "x_9=np.asarray(x_9_list[:5000])\n",
    "x_9_list_test=[]\n",
    "for i in range(len(y_all_test)):\n",
    "    if (y_all_test[i] == 9):\n",
    "        x_9_list_test.append(x_all_test[i])\n",
    "x_9_test=np.asarray(x_9_list_test[:500])\n",
    "\n",
    "x_train = x_9\n",
    "x_test = x_9_test\n",
    "\n",
    "x_train = x_train.astype('float32') / 255.0\n",
    "x_test = x_test.astype('float32') / 255.0\n",
    "\n",
    "x_train = np.reshape(x_train, (len(x_train), 28, 28, 1))\n",
    "x_test = np.reshape(x_test, (len(x_test), 28, 28, 1))\n",
    "\n",
    "noise_factor = 0.5\n",
    "x_train_noisy = x_train + noise_factor * np.random.normal(loc=0.0, scale=1.0, size=x_train.shape)\n",
    "x_test_noisy = x_test + noise_factor * np.random.normal(loc=0.0, scale=1.0, size=x_test.shape)\n",
    "\n",
    "x_train_noisy = np.clip(x_train_noisy, 0., 1.)\n",
    "x_test_noisy = np.clip(x_test_noisy, 0., 1.)\n",
    "\n",
    "print(x_train.shape)\n",
    "\n",
    "### pretrain\n",
    "\n",
    "train1_conv1 = Conv2D(16, (3, 3), activation='relu', padding='same')(input_img) #nb_filter, nb_row, nb_col\n",
    "\n",
    "train1_decoded = Conv2D(1, (5, 5), activation='sigmoid', padding='same')(train1_conv1)\n",
    "\n",
    "train1_autoencoder = Model(input_img, train1_decoded)\n",
    "train1_autoencoder.compile(optimizer='adadelta', loss=own_loss)\n",
    "\n",
    "train1_autoencoder.fit(x_train_noisy, x_train, epochs=1, batch_size=20,\n",
    "               shuffle=True, validation_data=(x_test, x_test), verbose=1)"
   ]
  },
  {
   "cell_type": "code",
   "execution_count": 73,
   "metadata": {},
   "outputs": [
    {
     "name": "stdout",
     "output_type": "stream",
     "text": [
      "_________________________________________________________________\n",
      "Layer (type)                 Output Shape              Param #   \n",
      "=================================================================\n",
      "input_11 (InputLayer)        (None, 28, 28, 1)         0         \n",
      "_________________________________________________________________\n",
      "conv2d_146 (Conv2D)          (None, 28, 28, 16)        160       \n",
      "_________________________________________________________________\n",
      "conv2d_147 (Conv2D)          (None, 28, 28, 1)         401       \n",
      "=================================================================\n",
      "Total params: 561\n",
      "Trainable params: 561\n",
      "Non-trainable params: 0\n",
      "_________________________________________________________________\n"
     ]
    }
   ],
   "source": [
    "train1_autoencoder.summary()"
   ]
  },
  {
   "cell_type": "code",
   "execution_count": 74,
   "metadata": {},
   "outputs": [
    {
     "data": {
      "text/plain": [
       "(60000, 28, 28, 16)"
      ]
     },
     "execution_count": 74,
     "metadata": {},
     "output_type": "execute_result"
    }
   ],
   "source": [
    "#decoded_imgs = train1_autoencoder.predict(x_train)\n",
    "## print \"input (upper row)\\ndecoded (bottom row)\"\n",
    "#show_imgs(x_train, decoded_imgs)\n",
    "\n",
    "input_creator_train2 = Model(input_img, train1_conv1)\n",
    "for i in range(2):\n",
    "    input_creator_train2.layers[i].set_weights(train1_autoencoder.layers[i].get_weights())\n",
    "\n",
    "input_train2 = input_creator_train2.predict(x_train_noisy)\n",
    "\n",
    "input_train2.shape"
   ]
  },
  {
   "cell_type": "code",
   "execution_count": 75,
   "metadata": {},
   "outputs": [
    {
     "name": "stdout",
     "output_type": "stream",
     "text": [
      "Epoch 1/1\n",
      "60000/60000 [==============================] - 119s 2ms/step - loss: -2.6652\n"
     ]
    },
    {
     "data": {
      "text/plain": [
       "<keras.callbacks.History at 0x276c3c88>"
      ]
     },
     "execution_count": 75,
     "metadata": {},
     "output_type": "execute_result"
    }
   ],
   "source": [
    "input_img_train2 = Input(shape=(28, 28,16))\n",
    "\n",
    "train2_pool1 = MaxPooling2D(pool_size=(2, 2))(input_img_train2)\n",
    "train2_conv1 = Conv2D(8, (3, 3), activation='relu', padding='same')(train2_pool1) #nb_filter, nb_row, nb_col\n",
    "\n",
    "#---\n",
    "\n",
    "train2_pool2 = UpSampling2D(size=(2, 2))(train2_conv1)\n",
    "train2_decoded = Conv2D(16, (3, 3), activation='relu', padding='same')(train2_pool2)\n",
    "\n",
    "train2_autoencoder = Model(input_img_train2, train2_decoded)\n",
    "train2_autoencoder.compile(optimizer='adadelta', loss=own_loss)\n",
    "\n",
    "train2_autoencoder.fit(input_train2, input_train2, epochs=1, batch_size=20, verbose=1)"
   ]
  },
  {
   "cell_type": "code",
   "execution_count": 76,
   "metadata": {},
   "outputs": [
    {
     "name": "stdout",
     "output_type": "stream",
     "text": [
      "_________________________________________________________________\n",
      "Layer (type)                 Output Shape              Param #   \n",
      "=================================================================\n",
      "input_12 (InputLayer)        (None, 28, 28, 16)        0         \n",
      "_________________________________________________________________\n",
      "max_pooling2d_51 (MaxPooling (None, 14, 14, 16)        0         \n",
      "_________________________________________________________________\n",
      "conv2d_148 (Conv2D)          (None, 14, 14, 8)         1160      \n",
      "_________________________________________________________________\n",
      "up_sampling2d_63 (UpSampling (None, 28, 28, 8)         0         \n",
      "_________________________________________________________________\n",
      "conv2d_149 (Conv2D)          (None, 28, 28, 16)        1168      \n",
      "=================================================================\n",
      "Total params: 2,328\n",
      "Trainable params: 2,328\n",
      "Non-trainable params: 0\n",
      "_________________________________________________________________\n"
     ]
    }
   ],
   "source": [
    "train2_autoencoder.summary()"
   ]
  },
  {
   "cell_type": "code",
   "execution_count": 77,
   "metadata": {},
   "outputs": [
    {
     "data": {
      "text/plain": [
       "(60000, 14, 14, 8)"
      ]
     },
     "execution_count": 77,
     "metadata": {},
     "output_type": "execute_result"
    }
   ],
   "source": [
    "#decoded_imgs = train1_autoencoder.predict(x_train)\n",
    "## print \"input (upper row)\\ndecoded (bottom row)\"\n",
    "#show_imgs(x_train, decoded_imgs)\n",
    "\n",
    "input_creator_train3 = Model(input_img_train2, train2_conv1)\n",
    "for i in range(3):\n",
    "    input_creator_train3.layers[i].set_weights(train2_autoencoder.layers[i].get_weights())\n",
    "\n",
    "input_train3 = input_creator_train3.predict(input_creator_train2.predict(x_train_noisy))\n",
    "\n",
    "input_train3.shape"
   ]
  },
  {
   "cell_type": "code",
   "execution_count": 78,
   "metadata": {},
   "outputs": [
    {
     "name": "stdout",
     "output_type": "stream",
     "text": [
      "Epoch 1/1\n",
      "60000/60000 [==============================] - 24s 405us/step - loss: -0.5528\n"
     ]
    },
    {
     "data": {
      "text/plain": [
       "<keras.callbacks.History at 0x279d0160>"
      ]
     },
     "execution_count": 78,
     "metadata": {},
     "output_type": "execute_result"
    }
   ],
   "source": [
    "input_img_train3 = Input(shape=(14, 14,8))\n",
    "\n",
    "train3_pool1 = MaxPooling2D(pool_size=(2, 2))(input_img_train3)\n",
    "train3_conv1 = Conv2D(4, (3, 3), activation='relu', padding='same')(train3_pool1) #nb_filter, nb_row, nb_col\n",
    "\n",
    "#---\n",
    "\n",
    "train3_pool2 = UpSampling2D(size=(2, 2))(train3_conv1)\n",
    "train3_decoded = Conv2D(8, (3, 3), activation='relu', padding='same')(train3_pool2)\n",
    "\n",
    "train3_autoencoder = Model(input_img_train3, train3_decoded)\n",
    "train3_autoencoder.compile(optimizer='adadelta', loss=own_loss)\n",
    "\n",
    "train3_autoencoder.fit(input_train3, input_train3, epochs=1, batch_size=20, verbose=1)"
   ]
  },
  {
   "cell_type": "code",
   "execution_count": 79,
   "metadata": {},
   "outputs": [
    {
     "name": "stdout",
     "output_type": "stream",
     "text": [
      "_________________________________________________________________\n",
      "Layer (type)                 Output Shape              Param #   \n",
      "=================================================================\n",
      "input_13 (InputLayer)        (None, 14, 14, 8)         0         \n",
      "_________________________________________________________________\n",
      "max_pooling2d_52 (MaxPooling (None, 7, 7, 8)           0         \n",
      "_________________________________________________________________\n",
      "conv2d_150 (Conv2D)          (None, 7, 7, 4)           292       \n",
      "_________________________________________________________________\n",
      "up_sampling2d_64 (UpSampling (None, 14, 14, 4)         0         \n",
      "_________________________________________________________________\n",
      "conv2d_151 (Conv2D)          (None, 14, 14, 8)         296       \n",
      "=================================================================\n",
      "Total params: 588\n",
      "Trainable params: 588\n",
      "Non-trainable params: 0\n",
      "_________________________________________________________________\n"
     ]
    }
   ],
   "source": [
    "train3_autoencoder.summary()"
   ]
  },
  {
   "cell_type": "code",
   "execution_count": 80,
   "metadata": {},
   "outputs": [
    {
     "name": "stdout",
     "output_type": "stream",
     "text": [
      "(?, 28, 28, 16)\n"
     ]
    }
   ],
   "source": [
    "### unroll\n",
    "\n",
    "conv1 = Conv2D(16, (3, 3), activation='relu', padding='same')(input_img) #nb_filter, nb_row, nb_col\n",
    "\n",
    "pool1 = MaxPooling2D(pool_size=(2, 2))(conv1)\n",
    "conv2 = Conv2D(8, (3, 3), activation='relu', padding='same')(pool1)\n",
    "\n",
    "pool2 = MaxPooling2D(pool_size=(2, 2))(conv2)\n",
    "encoded = Conv2D(4, (3, 3), activation='relu', padding='same')(pool2)\n",
    "\n",
    "pool3 = UpSampling2D(size=(2, 2))(encoded)\n",
    "conv4 = Conv2D(8, (3, 3), activation='relu', padding='same')(pool3)\n",
    "\n",
    "pool4 = UpSampling2D(size=(2, 2))(conv4)\n",
    "conv5 = Conv2D(16, (3, 3), activation='relu', padding='same')(pool4)\n",
    "\n",
    "decoded = Conv2D(1, (5, 5), activation='sigmoid', padding='same')(conv5)\n",
    "\n",
    "autoencoder = Model(input_img, decoded)\n",
    "autoencoder.compile(optimizer='adadelta', loss=own_loss)\n",
    "\n",
    "print(train1_conv1.shape)\n",
    "\n",
    "autoencoder.layers[0].set_weights(train1_autoencoder.layers[0].get_weights())\n",
    "autoencoder.layers[1].set_weights(train1_autoencoder.layers[1].get_weights())\n",
    "\n",
    "autoencoder.layers[10].set_weights(train1_autoencoder.layers[2].get_weights())"
   ]
  },
  {
   "cell_type": "code",
   "execution_count": 81,
   "metadata": {},
   "outputs": [],
   "source": [
    "\n",
    "autoencoder.layers[2].set_weights(train2_autoencoder.layers[1].get_weights())\n",
    "autoencoder.layers[3].set_weights(train2_autoencoder.layers[2].get_weights())\n",
    "\n",
    "autoencoder.layers[8].set_weights(train2_autoencoder.layers[3].get_weights())\n",
    "autoencoder.layers[9].set_weights(train2_autoencoder.layers[4].get_weights())\n",
    "\n",
    "autoencoder.layers[4].set_weights(train3_autoencoder.layers[1].get_weights())\n",
    "autoencoder.layers[5].set_weights(train3_autoencoder.layers[2].get_weights())\n",
    "autoencoder.layers[6].set_weights(train3_autoencoder.layers[3].get_weights())\n",
    "autoencoder.layers[7].set_weights(train3_autoencoder.layers[4].get_weights())"
   ]
  },
  {
   "cell_type": "code",
   "execution_count": 82,
   "metadata": {},
   "outputs": [
    {
     "name": "stdout",
     "output_type": "stream",
     "text": [
      "shape of decoded (None, 7, 7, 4)\n",
      "shape of decoded (None, 28, 28, 1)\n",
      "Train on 60000 samples, validate on 10000 samples\n",
      "Epoch 1/1\n",
      "60000/60000 [==============================] - 188s 3ms/step - loss: 0.0301 - val_loss: 0.0059\n"
     ]
    },
    {
     "data": {
      "text/plain": [
       "<keras.callbacks.History at 0x1d79a3c8>"
      ]
     },
     "execution_count": 82,
     "metadata": {},
     "output_type": "execute_result"
    }
   ],
   "source": [
    "print(\"shape of decoded\", K.int_shape(encoded))\n",
    "print(\"shape of decoded\", K.int_shape(decoded))\n",
    "\n",
    "### fine tune\n",
    "\n",
    "autoencoder.fit(x_train_noisy, x_train, epochs=1, batch_size=20,\n",
    "            shuffle=True, validation_data=(x_test, x_test), verbose=1)"
   ]
  },
  {
   "cell_type": "code",
   "execution_count": 83,
   "metadata": {},
   "outputs": [
    {
     "data": {
      "image/png": "[encoded data removed]",
      "text/plain": [
       "<matplotlib.figure.Figure at 0x279c7c50>"
      ]
     },
     "metadata": {},
     "output_type": "display_data"
    }
   ],
   "source": [
    "def show_imgs(x_test, decoded_imgs, n=10):\n",
    "    plt.figure(figsize=(20, 4))\n",
    "    for i in range(n):\n",
    "        ax = plt.subplot(2, n, i+1)\n",
    "        plt.imshow(x_test[i].reshape(28,28))\n",
    "        plt.gray()\n",
    "        ax.get_xaxis().set_visible(False)\n",
    "        ax.get_yaxis().set_visible(False)\n",
    "\n",
    "        if decoded_imgs is not None:\n",
    "            ax = plt.subplot(2, n, i+ 1 +n)\n",
    "            plt.imshow(decoded_imgs[i].reshape(28,28))\n",
    "            plt.gray()\n",
    "            ax.get_xaxis().set_visible(False)\n",
    "            ax.get_yaxis().set_visible(False)\n",
    "    plt.show()\n",
    "    \n",
    "decoded_imgs = autoencoder.predict(x_test_noisy)\n",
    "show_imgs(x_test, decoded_imgs)"
   ]
  },
  {
   "cell_type": "code",
   "execution_count": 70,
   "metadata": {},
   "outputs": [
    {
     "data": {
      "image/png": "[encoded data removed]",
      "text/plain": [
       "<matplotlib.figure.Figure at 0x1d6eb390>"
      ]
     },
     "metadata": {},
     "output_type": "display_data"
    }
   ],
   "source": [
    "enbig1 = UpSampling2D(size=(2, 2))(encoded)\n",
    "enbig2 = UpSampling2D(size=(2, 2))(enbig1)\n",
    "\n",
    "autoencoder_show_hidden = Model(input_img, enbig2)\n",
    "encoded_imgs = autoencoder_show_hidden.predict(x_test_noisy)\n",
    "\n",
    "def show_hidden(x_test, encoded_imgs, n=10):\n",
    "    \n",
    "    en0=np.zeros((encoded_imgs.shape[0],encoded_imgs.shape[1],encoded_imgs.shape[2]))\n",
    "    en1=np.zeros((encoded_imgs.shape[0],encoded_imgs.shape[1],encoded_imgs.shape[2]))\n",
    "    en2=np.zeros((encoded_imgs.shape[0],encoded_imgs.shape[1],encoded_imgs.shape[2]))\n",
    "    en3=np.zeros((encoded_imgs.shape[0],encoded_imgs.shape[1],encoded_imgs.shape[2]))\n",
    "\n",
    "    for i in range(encoded_imgs.shape[0]):\n",
    "        for j in range(encoded_imgs.shape[1]):\n",
    "            for k in range(encoded_imgs.shape[2]):\n",
    "                en0[i][j][k]=encoded_imgs[i][j][k][0]\n",
    "                en1[i][j][k]=encoded_imgs[i][j][k][1]\n",
    "                en2[i][j][k]=encoded_imgs[i][j][k][2]\n",
    "                en3[i][j][k]=encoded_imgs[i][j][k][3]\n",
    "    \n",
    "    plt.figure(figsize=(20, 4))\n",
    "    for i in range(n):\n",
    "        ax = plt.subplot(5, n, i+1)\n",
    "        plt.imshow(x_test[i].reshape(28,28))\n",
    "        plt.gray()\n",
    "        ax.get_xaxis().set_visible(False)\n",
    "        ax.get_yaxis().set_visible(False)\n",
    "\n",
    "        if decoded_imgs is not None:\n",
    "            ax = plt.subplot(5, n, i+ 1 +n)\n",
    "            plt.imshow(en0[i].reshape(28,28))\n",
    "            plt.gray()\n",
    "            ax.get_xaxis().set_visible(False)\n",
    "            ax.get_yaxis().set_visible(False)\n",
    "            \n",
    "            ax = plt.subplot(5, n, i+ 1 +2*n)\n",
    "            plt.imshow(en1[i].reshape(28,28))\n",
    "            plt.gray()\n",
    "            ax.get_xaxis().set_visible(False)\n",
    "            ax.get_yaxis().set_visible(False)\n",
    "            \n",
    "            ax = plt.subplot(5, n, i+ 1 +3*n)\n",
    "            plt.imshow(en2[i].reshape(28,28))\n",
    "            plt.gray()\n",
    "            ax.get_xaxis().set_visible(False)\n",
    "            ax.get_yaxis().set_visible(False)\n",
    "            \n",
    "            ax = plt.subplot(5, n, i+ 1 +4*n)\n",
    "            plt.imshow(en3[i].reshape(28,28))\n",
    "            plt.gray()\n",
    "            ax.get_xaxis().set_visible(False)\n",
    "            ax.get_yaxis().set_visible(False)\n",
    "    plt.show()\n",
    "\n",
    "show_hidden(x_test, encoded_imgs)"
   ]
  },
  {
   "cell_type": "code",
   "execution_count": 85,
   "metadata": {},
   "outputs": [
    {
     "name": "stdout",
     "output_type": "stream",
     "text": [
      "_________________________________________________________________\n",
      "Layer (type)                 Output Shape              Param #   \n",
      "=================================================================\n",
      "input_11 (InputLayer)        (None, 28, 28, 1)         0         \n",
      "_________________________________________________________________\n",
      "conv2d_152 (Conv2D)          (None, 28, 28, 16)        160       \n",
      "_________________________________________________________________\n",
      "max_pooling2d_53 (MaxPooling (None, 14, 14, 16)        0         \n",
      "_________________________________________________________________\n",
      "conv2d_153 (Conv2D)          (None, 14, 14, 8)         1160      \n",
      "_________________________________________________________________\n",
      "max_pooling2d_54 (MaxPooling (None, 7, 7, 8)           0         \n",
      "_________________________________________________________________\n",
      "conv2d_154 (Conv2D)          (None, 7, 7, 4)           292       \n",
      "_________________________________________________________________\n",
      "up_sampling2d_65 (UpSampling (None, 14, 14, 4)         0         \n",
      "_________________________________________________________________\n",
      "conv2d_155 (Conv2D)          (None, 14, 14, 8)         296       \n",
      "_________________________________________________________________\n",
      "up_sampling2d_66 (UpSampling (None, 28, 28, 8)         0         \n",
      "_________________________________________________________________\n",
      "conv2d_156 (Conv2D)          (None, 28, 28, 16)        1168      \n",
      "_________________________________________________________________\n",
      "conv2d_157 (Conv2D)          (None, 28, 28, 1)         401       \n",
      "=================================================================\n",
      "Total params: 3,477\n",
      "Trainable params: 3,477\n",
      "Non-trainable params: 0\n",
      "_________________________________________________________________\n"
     ]
    }
   ],
   "source": [
    "autoencoder.summary()"
   ]
  },
  {
   "cell_type": "code",
   "execution_count": null,
   "metadata": {},
   "outputs": [],
   "source": []
  }
 ],
 "metadata": {
  "kernelspec": {
   "display_name": "Python 3",
   "language": "python",
   "name": "python3"
  },
  "language_info": {
   "codemirror_mode": {
    "name": "ipython",
    "version": 3
   },
   "file_extension": ".py",
   "mimetype": "text/x-python",
   "name": "python",
   "nbconvert_exporter": "python",
   "pygments_lexer": "ipython3",
   "version": "3.6.4"
  }
 },
 "nbformat": 4,
 "nbformat_minor": 2
}
